{
 "cells": [
  {
   "cell_type": "markdown",
   "id": "50f37e2d",
   "metadata": {},
   "source": [
    "# Exploratory data analysis\n"
   ]
  },
  {
   "cell_type": "code",
   "execution_count": 2,
   "id": "f1a0ff95",
   "metadata": {
    "scrolled": false
   },
   "outputs": [
    {
     "data": {
      "text/html": [
       "<div>\n",
       "<style scoped>\n",
       "    .dataframe tbody tr th:only-of-type {\n",
       "        vertical-align: middle;\n",
       "    }\n",
       "\n",
       "    .dataframe tbody tr th {\n",
       "        vertical-align: top;\n",
       "    }\n",
       "\n",
       "    .dataframe thead th {\n",
       "        text-align: right;\n",
       "    }\n",
       "</style>\n",
       "<table border=\"1\" class=\"dataframe\">\n",
       "  <thead>\n",
       "    <tr style=\"text-align: right;\">\n",
       "      <th></th>\n",
       "      <th>Date</th>\n",
       "      <th>Location</th>\n",
       "      <th>MinTemp</th>\n",
       "      <th>MaxTemp</th>\n",
       "      <th>Rainfall</th>\n",
       "      <th>Evaporation</th>\n",
       "      <th>Sunshine</th>\n",
       "      <th>WindGustDir</th>\n",
       "      <th>WindGustSpeed</th>\n",
       "      <th>WindDir9am</th>\n",
       "      <th>...</th>\n",
       "      <th>Humidity9am</th>\n",
       "      <th>Humidity3pm</th>\n",
       "      <th>Pressure9am</th>\n",
       "      <th>Pressure3pm</th>\n",
       "      <th>Cloud9am</th>\n",
       "      <th>Cloud3pm</th>\n",
       "      <th>Temp9am</th>\n",
       "      <th>Temp3pm</th>\n",
       "      <th>RainToday</th>\n",
       "      <th>RainTomorrow</th>\n",
       "    </tr>\n",
       "  </thead>\n",
       "  <tbody>\n",
       "    <tr>\n",
       "      <th>0</th>\n",
       "      <td>01-12-2008</td>\n",
       "      <td>Albury</td>\n",
       "      <td>13.4</td>\n",
       "      <td>22.9</td>\n",
       "      <td>0.6</td>\n",
       "      <td>NaN</td>\n",
       "      <td>NaN</td>\n",
       "      <td>W</td>\n",
       "      <td>44.0</td>\n",
       "      <td>W</td>\n",
       "      <td>...</td>\n",
       "      <td>71.0</td>\n",
       "      <td>22.0</td>\n",
       "      <td>1007.7</td>\n",
       "      <td>1007.1</td>\n",
       "      <td>8.0</td>\n",
       "      <td>NaN</td>\n",
       "      <td>16.9</td>\n",
       "      <td>21.8</td>\n",
       "      <td>No</td>\n",
       "      <td>No</td>\n",
       "    </tr>\n",
       "    <tr>\n",
       "      <th>1</th>\n",
       "      <td>02-12-2008</td>\n",
       "      <td>Albury</td>\n",
       "      <td>7.4</td>\n",
       "      <td>25.1</td>\n",
       "      <td>0.0</td>\n",
       "      <td>NaN</td>\n",
       "      <td>NaN</td>\n",
       "      <td>WNW</td>\n",
       "      <td>44.0</td>\n",
       "      <td>NNW</td>\n",
       "      <td>...</td>\n",
       "      <td>44.0</td>\n",
       "      <td>25.0</td>\n",
       "      <td>1010.6</td>\n",
       "      <td>1007.8</td>\n",
       "      <td>NaN</td>\n",
       "      <td>NaN</td>\n",
       "      <td>17.2</td>\n",
       "      <td>24.3</td>\n",
       "      <td>No</td>\n",
       "      <td>No</td>\n",
       "    </tr>\n",
       "    <tr>\n",
       "      <th>2</th>\n",
       "      <td>03-12-2008</td>\n",
       "      <td>Albury</td>\n",
       "      <td>12.9</td>\n",
       "      <td>25.7</td>\n",
       "      <td>0.0</td>\n",
       "      <td>NaN</td>\n",
       "      <td>NaN</td>\n",
       "      <td>WSW</td>\n",
       "      <td>46.0</td>\n",
       "      <td>W</td>\n",
       "      <td>...</td>\n",
       "      <td>38.0</td>\n",
       "      <td>30.0</td>\n",
       "      <td>1007.6</td>\n",
       "      <td>1008.7</td>\n",
       "      <td>NaN</td>\n",
       "      <td>2.0</td>\n",
       "      <td>21.0</td>\n",
       "      <td>23.2</td>\n",
       "      <td>No</td>\n",
       "      <td>No</td>\n",
       "    </tr>\n",
       "    <tr>\n",
       "      <th>3</th>\n",
       "      <td>04-12-2008</td>\n",
       "      <td>Albury</td>\n",
       "      <td>9.2</td>\n",
       "      <td>28.0</td>\n",
       "      <td>0.0</td>\n",
       "      <td>NaN</td>\n",
       "      <td>NaN</td>\n",
       "      <td>NE</td>\n",
       "      <td>24.0</td>\n",
       "      <td>SE</td>\n",
       "      <td>...</td>\n",
       "      <td>45.0</td>\n",
       "      <td>16.0</td>\n",
       "      <td>1017.6</td>\n",
       "      <td>1012.8</td>\n",
       "      <td>NaN</td>\n",
       "      <td>NaN</td>\n",
       "      <td>18.1</td>\n",
       "      <td>26.5</td>\n",
       "      <td>No</td>\n",
       "      <td>No</td>\n",
       "    </tr>\n",
       "    <tr>\n",
       "      <th>4</th>\n",
       "      <td>05-12-2008</td>\n",
       "      <td>Albury</td>\n",
       "      <td>17.5</td>\n",
       "      <td>32.3</td>\n",
       "      <td>1.0</td>\n",
       "      <td>NaN</td>\n",
       "      <td>NaN</td>\n",
       "      <td>W</td>\n",
       "      <td>41.0</td>\n",
       "      <td>ENE</td>\n",
       "      <td>...</td>\n",
       "      <td>82.0</td>\n",
       "      <td>33.0</td>\n",
       "      <td>1010.8</td>\n",
       "      <td>1006.0</td>\n",
       "      <td>7.0</td>\n",
       "      <td>8.0</td>\n",
       "      <td>17.8</td>\n",
       "      <td>29.7</td>\n",
       "      <td>No</td>\n",
       "      <td>No</td>\n",
       "    </tr>\n",
       "  </tbody>\n",
       "</table>\n",
       "<p>5 rows × 23 columns</p>\n",
       "</div>"
      ],
      "text/plain": [
       "         Date Location  MinTemp  MaxTemp  Rainfall  Evaporation  Sunshine  \\\n",
       "0  01-12-2008   Albury     13.4     22.9       0.6          NaN       NaN   \n",
       "1  02-12-2008   Albury      7.4     25.1       0.0          NaN       NaN   \n",
       "2  03-12-2008   Albury     12.9     25.7       0.0          NaN       NaN   \n",
       "3  04-12-2008   Albury      9.2     28.0       0.0          NaN       NaN   \n",
       "4  05-12-2008   Albury     17.5     32.3       1.0          NaN       NaN   \n",
       "\n",
       "  WindGustDir  WindGustSpeed WindDir9am  ... Humidity9am  Humidity3pm  \\\n",
       "0           W           44.0          W  ...        71.0         22.0   \n",
       "1         WNW           44.0        NNW  ...        44.0         25.0   \n",
       "2         WSW           46.0          W  ...        38.0         30.0   \n",
       "3          NE           24.0         SE  ...        45.0         16.0   \n",
       "4           W           41.0        ENE  ...        82.0         33.0   \n",
       "\n",
       "   Pressure9am  Pressure3pm  Cloud9am  Cloud3pm  Temp9am  Temp3pm  RainToday  \\\n",
       "0       1007.7       1007.1       8.0       NaN     16.9     21.8         No   \n",
       "1       1010.6       1007.8       NaN       NaN     17.2     24.3         No   \n",
       "2       1007.6       1008.7       NaN       2.0     21.0     23.2         No   \n",
       "3       1017.6       1012.8       NaN       NaN     18.1     26.5         No   \n",
       "4       1010.8       1006.0       7.0       8.0     17.8     29.7         No   \n",
       "\n",
       "   RainTomorrow  \n",
       "0            No  \n",
       "1            No  \n",
       "2            No  \n",
       "3            No  \n",
       "4            No  \n",
       "\n",
       "[5 rows x 23 columns]"
      ]
     },
     "execution_count": 2,
     "metadata": {},
     "output_type": "execute_result"
    }
   ],
   "source": [
    "import pandas as pd\n",
    "import numpy as np\n",
    "df=pd.read_csv(r\"C:\\Users\\hi\\Documents\\Australian_Weather.csv\")\n",
    "df.head()\n"
   ]
  },
  {
   "cell_type": "code",
   "execution_count": 4,
   "id": "d5b886d4",
   "metadata": {
    "scrolled": false
   },
   "outputs": [
    {
     "data": {
      "text/plain": [
       "(145460, 23)"
      ]
     },
     "execution_count": 4,
     "metadata": {},
     "output_type": "execute_result"
    }
   ],
   "source": [
    "df.shape # The dataset has 23 features and 145460 entries"
   ]
  },
  {
   "cell_type": "code",
   "execution_count": 10,
   "id": "fbf50937",
   "metadata": {
    "scrolled": true
   },
   "outputs": [
    {
     "data": {
      "text/plain": [
       "Date              object\n",
       "Location          object\n",
       "MinTemp          float64\n",
       "MaxTemp          float64\n",
       "Rainfall         float64\n",
       "Evaporation      float64\n",
       "Sunshine         float64\n",
       "WindGustDir       object\n",
       "WindGustSpeed    float64\n",
       "WindDir9am        object\n",
       "WindDir3pm        object\n",
       "WindSpeed9am     float64\n",
       "WindSpeed3pm     float64\n",
       "Humidity9am      float64\n",
       "Humidity3pm      float64\n",
       "Pressure9am      float64\n",
       "Pressure3pm      float64\n",
       "Cloud9am         float64\n",
       "Cloud3pm         float64\n",
       "Temp9am          float64\n",
       "Temp3pm          float64\n",
       "RainToday         object\n",
       "RainTomorrow      object\n",
       "dtype: object"
      ]
     },
     "execution_count": 10,
     "metadata": {},
     "output_type": "execute_result"
    }
   ],
   "source": [
    "df.dtypes"
   ]
  },
  {
   "cell_type": "code",
   "execution_count": 5,
   "id": "da7ab340",
   "metadata": {
    "scrolled": true
   },
   "outputs": [
    {
     "data": {
      "text/plain": [
       "Date                 0\n",
       "Location             0\n",
       "MinTemp           1485\n",
       "MaxTemp           1261\n",
       "Rainfall          3261\n",
       "Evaporation      62790\n",
       "Sunshine         69835\n",
       "WindGustDir      10326\n",
       "WindGustSpeed    10263\n",
       "WindDir9am       10566\n",
       "WindDir3pm        4228\n",
       "WindSpeed9am      1767\n",
       "WindSpeed3pm      3062\n",
       "Humidity9am       2654\n",
       "Humidity3pm       4507\n",
       "Pressure9am      15065\n",
       "Pressure3pm      15028\n",
       "Cloud9am         55888\n",
       "Cloud3pm         59358\n",
       "Temp9am           1767\n",
       "Temp3pm           3609\n",
       "RainToday         3261\n",
       "RainTomorrow      3267\n",
       "dtype: int64"
      ]
     },
     "execution_count": 5,
     "metadata": {},
     "output_type": "execute_result"
    }
   ],
   "source": [
    "df.isnull().sum() # Almost 40% of the entries are not known for the columns Evaporation,Sunshine,Cloud9am and Cloud3pm columns"
   ]
  },
  {
   "cell_type": "code",
   "execution_count": 6,
   "id": "b4abbea9",
   "metadata": {
    "scrolled": false
   },
   "outputs": [
    {
     "data": {
      "text/html": [
       "<div>\n",
       "<style scoped>\n",
       "    .dataframe tbody tr th:only-of-type {\n",
       "        vertical-align: middle;\n",
       "    }\n",
       "\n",
       "    .dataframe tbody tr th {\n",
       "        vertical-align: top;\n",
       "    }\n",
       "\n",
       "    .dataframe thead th {\n",
       "        text-align: right;\n",
       "    }\n",
       "</style>\n",
       "<table border=\"1\" class=\"dataframe\">\n",
       "  <thead>\n",
       "    <tr style=\"text-align: right;\">\n",
       "      <th></th>\n",
       "      <th>MinTemp</th>\n",
       "      <th>MaxTemp</th>\n",
       "      <th>Rainfall</th>\n",
       "      <th>Evaporation</th>\n",
       "      <th>Sunshine</th>\n",
       "      <th>WindGustSpeed</th>\n",
       "      <th>WindSpeed9am</th>\n",
       "      <th>WindSpeed3pm</th>\n",
       "      <th>Humidity9am</th>\n",
       "      <th>Humidity3pm</th>\n",
       "      <th>Pressure9am</th>\n",
       "      <th>Pressure3pm</th>\n",
       "      <th>Cloud9am</th>\n",
       "      <th>Cloud3pm</th>\n",
       "      <th>Temp9am</th>\n",
       "      <th>Temp3pm</th>\n",
       "    </tr>\n",
       "  </thead>\n",
       "  <tbody>\n",
       "    <tr>\n",
       "      <th>count</th>\n",
       "      <td>143975.000000</td>\n",
       "      <td>144199.000000</td>\n",
       "      <td>142199.000000</td>\n",
       "      <td>82670.000000</td>\n",
       "      <td>75625.000000</td>\n",
       "      <td>135197.000000</td>\n",
       "      <td>143693.000000</td>\n",
       "      <td>142398.000000</td>\n",
       "      <td>142806.000000</td>\n",
       "      <td>140953.000000</td>\n",
       "      <td>130395.00000</td>\n",
       "      <td>130432.000000</td>\n",
       "      <td>89572.000000</td>\n",
       "      <td>86102.000000</td>\n",
       "      <td>143693.000000</td>\n",
       "      <td>141851.00000</td>\n",
       "    </tr>\n",
       "    <tr>\n",
       "      <th>mean</th>\n",
       "      <td>12.194034</td>\n",
       "      <td>23.221348</td>\n",
       "      <td>2.360918</td>\n",
       "      <td>5.468232</td>\n",
       "      <td>7.611178</td>\n",
       "      <td>40.035230</td>\n",
       "      <td>14.043426</td>\n",
       "      <td>18.662657</td>\n",
       "      <td>68.880831</td>\n",
       "      <td>51.539116</td>\n",
       "      <td>1017.64994</td>\n",
       "      <td>1015.255889</td>\n",
       "      <td>4.447461</td>\n",
       "      <td>4.509930</td>\n",
       "      <td>16.990631</td>\n",
       "      <td>21.68339</td>\n",
       "    </tr>\n",
       "    <tr>\n",
       "      <th>std</th>\n",
       "      <td>6.398495</td>\n",
       "      <td>7.119049</td>\n",
       "      <td>8.478060</td>\n",
       "      <td>4.193704</td>\n",
       "      <td>3.785483</td>\n",
       "      <td>13.607062</td>\n",
       "      <td>8.915375</td>\n",
       "      <td>8.809800</td>\n",
       "      <td>19.029164</td>\n",
       "      <td>20.795902</td>\n",
       "      <td>7.10653</td>\n",
       "      <td>7.037414</td>\n",
       "      <td>2.887159</td>\n",
       "      <td>2.720357</td>\n",
       "      <td>6.488753</td>\n",
       "      <td>6.93665</td>\n",
       "    </tr>\n",
       "    <tr>\n",
       "      <th>min</th>\n",
       "      <td>-8.500000</td>\n",
       "      <td>-4.800000</td>\n",
       "      <td>0.000000</td>\n",
       "      <td>0.000000</td>\n",
       "      <td>0.000000</td>\n",
       "      <td>6.000000</td>\n",
       "      <td>0.000000</td>\n",
       "      <td>0.000000</td>\n",
       "      <td>0.000000</td>\n",
       "      <td>0.000000</td>\n",
       "      <td>980.50000</td>\n",
       "      <td>977.100000</td>\n",
       "      <td>0.000000</td>\n",
       "      <td>0.000000</td>\n",
       "      <td>-7.200000</td>\n",
       "      <td>-5.40000</td>\n",
       "    </tr>\n",
       "    <tr>\n",
       "      <th>25%</th>\n",
       "      <td>7.600000</td>\n",
       "      <td>17.900000</td>\n",
       "      <td>0.000000</td>\n",
       "      <td>2.600000</td>\n",
       "      <td>4.800000</td>\n",
       "      <td>31.000000</td>\n",
       "      <td>7.000000</td>\n",
       "      <td>13.000000</td>\n",
       "      <td>57.000000</td>\n",
       "      <td>37.000000</td>\n",
       "      <td>1012.90000</td>\n",
       "      <td>1010.400000</td>\n",
       "      <td>1.000000</td>\n",
       "      <td>2.000000</td>\n",
       "      <td>12.300000</td>\n",
       "      <td>16.60000</td>\n",
       "    </tr>\n",
       "    <tr>\n",
       "      <th>50%</th>\n",
       "      <td>12.000000</td>\n",
       "      <td>22.600000</td>\n",
       "      <td>0.000000</td>\n",
       "      <td>4.800000</td>\n",
       "      <td>8.400000</td>\n",
       "      <td>39.000000</td>\n",
       "      <td>13.000000</td>\n",
       "      <td>19.000000</td>\n",
       "      <td>70.000000</td>\n",
       "      <td>52.000000</td>\n",
       "      <td>1017.60000</td>\n",
       "      <td>1015.200000</td>\n",
       "      <td>5.000000</td>\n",
       "      <td>5.000000</td>\n",
       "      <td>16.700000</td>\n",
       "      <td>21.10000</td>\n",
       "    </tr>\n",
       "    <tr>\n",
       "      <th>75%</th>\n",
       "      <td>16.900000</td>\n",
       "      <td>28.200000</td>\n",
       "      <td>0.800000</td>\n",
       "      <td>7.400000</td>\n",
       "      <td>10.600000</td>\n",
       "      <td>48.000000</td>\n",
       "      <td>19.000000</td>\n",
       "      <td>24.000000</td>\n",
       "      <td>83.000000</td>\n",
       "      <td>66.000000</td>\n",
       "      <td>1022.40000</td>\n",
       "      <td>1020.000000</td>\n",
       "      <td>7.000000</td>\n",
       "      <td>7.000000</td>\n",
       "      <td>21.600000</td>\n",
       "      <td>26.40000</td>\n",
       "    </tr>\n",
       "    <tr>\n",
       "      <th>max</th>\n",
       "      <td>33.900000</td>\n",
       "      <td>48.100000</td>\n",
       "      <td>371.000000</td>\n",
       "      <td>145.000000</td>\n",
       "      <td>14.500000</td>\n",
       "      <td>135.000000</td>\n",
       "      <td>130.000000</td>\n",
       "      <td>87.000000</td>\n",
       "      <td>100.000000</td>\n",
       "      <td>100.000000</td>\n",
       "      <td>1041.00000</td>\n",
       "      <td>1039.600000</td>\n",
       "      <td>9.000000</td>\n",
       "      <td>9.000000</td>\n",
       "      <td>40.200000</td>\n",
       "      <td>46.70000</td>\n",
       "    </tr>\n",
       "  </tbody>\n",
       "</table>\n",
       "</div>"
      ],
      "text/plain": [
       "             MinTemp        MaxTemp       Rainfall   Evaporation  \\\n",
       "count  143975.000000  144199.000000  142199.000000  82670.000000   \n",
       "mean       12.194034      23.221348       2.360918      5.468232   \n",
       "std         6.398495       7.119049       8.478060      4.193704   \n",
       "min        -8.500000      -4.800000       0.000000      0.000000   \n",
       "25%         7.600000      17.900000       0.000000      2.600000   \n",
       "50%        12.000000      22.600000       0.000000      4.800000   \n",
       "75%        16.900000      28.200000       0.800000      7.400000   \n",
       "max        33.900000      48.100000     371.000000    145.000000   \n",
       "\n",
       "           Sunshine  WindGustSpeed   WindSpeed9am   WindSpeed3pm  \\\n",
       "count  75625.000000  135197.000000  143693.000000  142398.000000   \n",
       "mean       7.611178      40.035230      14.043426      18.662657   \n",
       "std        3.785483      13.607062       8.915375       8.809800   \n",
       "min        0.000000       6.000000       0.000000       0.000000   \n",
       "25%        4.800000      31.000000       7.000000      13.000000   \n",
       "50%        8.400000      39.000000      13.000000      19.000000   \n",
       "75%       10.600000      48.000000      19.000000      24.000000   \n",
       "max       14.500000     135.000000     130.000000      87.000000   \n",
       "\n",
       "         Humidity9am    Humidity3pm   Pressure9am    Pressure3pm  \\\n",
       "count  142806.000000  140953.000000  130395.00000  130432.000000   \n",
       "mean       68.880831      51.539116    1017.64994    1015.255889   \n",
       "std        19.029164      20.795902       7.10653       7.037414   \n",
       "min         0.000000       0.000000     980.50000     977.100000   \n",
       "25%        57.000000      37.000000    1012.90000    1010.400000   \n",
       "50%        70.000000      52.000000    1017.60000    1015.200000   \n",
       "75%        83.000000      66.000000    1022.40000    1020.000000   \n",
       "max       100.000000     100.000000    1041.00000    1039.600000   \n",
       "\n",
       "           Cloud9am      Cloud3pm        Temp9am       Temp3pm  \n",
       "count  89572.000000  86102.000000  143693.000000  141851.00000  \n",
       "mean       4.447461      4.509930      16.990631      21.68339  \n",
       "std        2.887159      2.720357       6.488753       6.93665  \n",
       "min        0.000000      0.000000      -7.200000      -5.40000  \n",
       "25%        1.000000      2.000000      12.300000      16.60000  \n",
       "50%        5.000000      5.000000      16.700000      21.10000  \n",
       "75%        7.000000      7.000000      21.600000      26.40000  \n",
       "max        9.000000      9.000000      40.200000      46.70000  "
      ]
     },
     "execution_count": 6,
     "metadata": {},
     "output_type": "execute_result"
    }
   ],
   "source": [
    "df.describe() # We can clearly see that there are outliers in the rainfall column"
   ]
  },
  {
   "cell_type": "code",
   "execution_count": 27,
   "id": "498c62c9",
   "metadata": {
    "scrolled": false
   },
   "outputs": [
    {
     "data": {
      "text/plain": [
       "<AxesSubplot:>"
      ]
     },
     "execution_count": 27,
     "metadata": {},
     "output_type": "execute_result"
    },
    {
     "data": {
      "image/png": "[encoded data removed]",
      "text/plain": [
       "<Figure size 432x288 with 1 Axes>"
      ]
     },
     "metadata": {
      "needs_background": "light"
     },
     "output_type": "display_data"
    }
   ],
   "source": [
    "df[\"RainToday\"].value_counts().plot(kind='bar') #Majority of the forecast says no rain"
   ]
  },
  {
   "cell_type": "code",
   "execution_count": 10,
   "id": "e36efb7b",
   "metadata": {},
   "outputs": [
    {
     "data": {
      "text/plain": [
       "No     110316\n",
       "Yes     31877\n",
       "Name: RainTomorrow, dtype: int64"
      ]
     },
     "execution_count": 10,
     "metadata": {},
     "output_type": "execute_result"
    }
   ],
   "source": [
    "df[\"RainTomorrow\"].value_counts() #ALmost identical to Rain Today Column"
   ]
  },
  {
   "cell_type": "code",
   "execution_count": 112,
   "id": "eb83e154",
   "metadata": {
    "scrolled": false
   },
   "outputs": [
    {
     "data": {
      "text/plain": [
       "54380"
      ]
     },
     "execution_count": 112,
     "metadata": {},
     "output_type": "execute_result"
    }
   ],
   "source": [
    "len(df[df[\"Rainfall\"]!=0]) #There is rainfall on 54380 out of 145460"
   ]
  },
  {
   "cell_type": "code",
   "execution_count": 117,
   "id": "22108350",
   "metadata": {
    "scrolled": false
   },
   "outputs": [
    {
     "data": {
      "text/plain": [
       "31880"
      ]
     },
     "execution_count": 117,
     "metadata": {},
     "output_type": "execute_result"
    }
   ],
   "source": [
    "len(df[(df[\"Rainfall\"]!=0) & (df[\"RainToday\"]==1)]) #The weather forecast is correct on 31880 occasions out of 54380"
   ]
  },
  {
   "cell_type": "code",
   "execution_count": 9,
   "id": "e74cb8de",
   "metadata": {
    "scrolled": false
   },
   "outputs": [
    {
     "data": {
      "text/plain": [
       "array(['Albury', 'BadgerysCreek', 'Cobar', 'CoffsHarbour', 'Moree',\n",
       "       'Newcastle', 'NorahHead', 'NorfolkIsland', 'Penrith', 'Richmond',\n",
       "       'Sydney', 'SydneyAirport', 'WaggaWagga', 'Williamtown',\n",
       "       'Wollongong', 'Canberra', 'Tuggeranong', 'MountGinini', 'Ballarat',\n",
       "       'Bendigo', 'Sale', 'MelbourneAirport', 'Melbourne', 'Mildura',\n",
       "       'Nhil', 'Portland', 'Watsonia', 'Dartmoor', 'Brisbane', 'Cairns',\n",
       "       'GoldCoast', 'Townsville', 'Adelaide', 'MountGambier', 'Nuriootpa',\n",
       "       'Woomera', 'Albany', 'Witchcliffe', 'PearceRAAF', 'PerthAirport',\n",
       "       'Perth', 'SalmonGums', 'Walpole', 'Hobart', 'Launceston',\n",
       "       'AliceSprings', 'Darwin', 'Katherine', 'Uluru'], dtype=object)"
      ]
     },
     "execution_count": 9,
     "metadata": {},
     "output_type": "execute_result"
    }
   ],
   "source": [
    "df[\"Location\"].unique()"
   ]
  },
  {
   "cell_type": "code",
   "execution_count": 10,
   "id": "24cd9c11",
   "metadata": {},
   "outputs": [
    {
     "data": {
      "text/plain": [
       "49"
      ]
     },
     "execution_count": 10,
     "metadata": {},
     "output_type": "execute_result"
    }
   ],
   "source": [
    "df[\"Location\"].nunique() #We have 49 different locations"
   ]
  },
  {
   "cell_type": "code",
   "execution_count": 53,
   "id": "96fb8d93",
   "metadata": {
    "scrolled": false
   },
   "outputs": [],
   "source": [
    "df[\"Date\"]=pd.to_datetime(df[\"Date\"],format=\"%d-%m-%Y\")"
   ]
  },
  {
   "cell_type": "code",
   "execution_count": 14,
   "id": "4f0a95f5",
   "metadata": {
    "scrolled": true
   },
   "outputs": [
    {
     "data": {
      "text/plain": [
       "array([12,  1,  2,  3,  4,  5,  6,  7,  8,  9, 10, 11], dtype=int64)"
      ]
     },
     "execution_count": 14,
     "metadata": {},
     "output_type": "execute_result"
    }
   ],
   "source": [
    "df[\"Date\"].dt.month.unique()  #Every month's data is studied"
   ]
  },
  {
   "cell_type": "code",
   "execution_count": 15,
   "id": "3b925b70",
   "metadata": {},
   "outputs": [
    {
     "data": {
      "text/plain": [
       "array([ 1,  2,  3,  4,  5,  6,  7,  8,  9, 10, 11, 12, 13, 14, 15, 16, 17,\n",
       "       18, 19, 20, 21, 22, 23, 24, 25, 26, 27, 28, 29, 30, 31],\n",
       "      dtype=int64)"
      ]
     },
     "execution_count": 15,
     "metadata": {},
     "output_type": "execute_result"
    }
   ],
   "source": [
    "df[\"Date\"].dt.day.unique() #Each day's data is studied"
   ]
  },
  {
   "cell_type": "code",
   "execution_count": 16,
   "id": "1289487e",
   "metadata": {
    "scrolled": true
   },
   "outputs": [
    {
     "data": {
      "text/plain": [
       "array([2008, 2009, 2010, 2011, 2012, 2013, 2014, 2015, 2016, 2017, 2007],\n",
       "      dtype=int64)"
      ]
     },
     "execution_count": 16,
     "metadata": {},
     "output_type": "execute_result"
    }
   ],
   "source": [
    "df[\"Date\"].dt.year.unique() # Data from the year 2007 to the year 2017 is taken into consideration"
   ]
  },
  {
   "cell_type": "code",
   "execution_count": 23,
   "id": "ff39beb0",
   "metadata": {
    "scrolled": false
   },
   "outputs": [],
   "source": [
    "df1=df[df[\"Location\"]==\"Albury\"]"
   ]
  },
  {
   "cell_type": "code",
   "execution_count": 24,
   "id": "3a3a1863",
   "metadata": {
    "scrolled": true
   },
   "outputs": [
    {
     "data": {
      "text/plain": [
       "array([2008, 2009, 2010, 2011, 2012, 2013, 2014, 2015, 2016, 2017],\n",
       "      dtype=int64)"
      ]
     },
     "execution_count": 24,
     "metadata": {},
     "output_type": "execute_result"
    }
   ],
   "source": [
    "df1[\"Date\"].dt.year.unique() # Data for 2007 is not taken into acccount for all the locations "
   ]
  },
  {
   "cell_type": "code",
   "execution_count": 25,
   "id": "d6fb0032",
   "metadata": {},
   "outputs": [],
   "source": [
    "df2=df[df['Date'].dt.year==2007]"
   ]
  },
  {
   "cell_type": "code",
   "execution_count": 26,
   "id": "8e14aef1",
   "metadata": {},
   "outputs": [
    {
     "data": {
      "text/plain": [
       "array(['Canberra'], dtype=object)"
      ]
     },
     "execution_count": 26,
     "metadata": {},
     "output_type": "execute_result"
    }
   ],
   "source": [
    "df2[\"Location\"].unique()  # The year 2007 is only considered for the location canberra"
   ]
  },
  {
   "cell_type": "code",
   "execution_count": 27,
   "id": "57179dae",
   "metadata": {},
   "outputs": [],
   "source": [
    "df3=df[df['Date'].dt.year==2017]"
   ]
  },
  {
   "cell_type": "code",
   "execution_count": 29,
   "id": "4cce70f7",
   "metadata": {
    "scrolled": false
   },
   "outputs": [
    {
     "data": {
      "text/plain": [
       "49"
      ]
     },
     "execution_count": 29,
     "metadata": {},
     "output_type": "execute_result"
    }
   ],
   "source": [
    "df3[\"Location\"].nunique() # 2017 is considered for every location"
   ]
  },
  {
   "cell_type": "code",
   "execution_count": 33,
   "id": "314c5bf9",
   "metadata": {
    "scrolled": false
   },
   "outputs": [
    {
     "data": {
      "text/plain": [
       "Canberra            3436\n",
       "Sydney              3344\n",
       "Darwin              3193\n",
       "Melbourne           3193\n",
       "Brisbane            3193\n",
       "Adelaide            3193\n",
       "Perth               3193\n",
       "Hobart              3193\n",
       "Albany              3040\n",
       "MountGambier        3040\n",
       "Ballarat            3040\n",
       "Townsville          3040\n",
       "GoldCoast           3040\n",
       "Cairns              3040\n",
       "Launceston          3040\n",
       "AliceSprings        3040\n",
       "Bendigo             3040\n",
       "Albury              3040\n",
       "MountGinini         3040\n",
       "Wollongong          3040\n",
       "Newcastle           3039\n",
       "Tuggeranong         3039\n",
       "Penrith             3039\n",
       "Woomera             3009\n",
       "Nuriootpa           3009\n",
       "Cobar               3009\n",
       "CoffsHarbour        3009\n",
       "Moree               3009\n",
       "Sale                3009\n",
       "PerthAirport        3009\n",
       "PearceRAAF          3009\n",
       "Witchcliffe         3009\n",
       "BadgerysCreek       3009\n",
       "Mildura             3009\n",
       "NorfolkIsland       3009\n",
       "MelbourneAirport    3009\n",
       "Richmond            3009\n",
       "SydneyAirport       3009\n",
       "WaggaWagga          3009\n",
       "Williamtown         3009\n",
       "Dartmoor            3009\n",
       "Watsonia            3009\n",
       "Portland            3009\n",
       "Walpole             3006\n",
       "NorahHead           3004\n",
       "SalmonGums          3001\n",
       "Katherine           1578\n",
       "Nhil                1578\n",
       "Uluru               1578\n",
       "Name: Location, dtype: int64"
      ]
     },
     "execution_count": 33,
     "metadata": {},
     "output_type": "execute_result"
    }
   ],
   "source": [
    "df[\"Location\"].value_counts() # We can see that not every day of the month and year are considered for all the locations"
   ]
  },
  {
   "cell_type": "code",
   "execution_count": 4,
   "id": "bdc79d55",
   "metadata": {},
   "outputs": [
    {
     "data": {
      "text/plain": [
       "(145460, 16)"
      ]
     },
     "execution_count": 4,
     "metadata": {},
     "output_type": "execute_result"
    }
   ],
   "source": [
    "df4=df.select_dtypes(exclude=\"object\")\n",
    "df4.shape"
   ]
  },
  {
   "cell_type": "code",
   "execution_count": 6,
   "id": "a88475f6",
   "metadata": {
    "scrolled": true
   },
   "outputs": [
    {
     "data": {
      "text/plain": [
       "<AxesSubplot:>"
      ]
     },
     "execution_count": 6,
     "metadata": {},
     "output_type": "execute_result"
    },
    {
     "data": {
      "image/png": "[encoded data removed]",
      "text/plain": [
       "<Figure size 1440x1440 with 2 Axes>"
      ]
     },
     "metadata": {
      "needs_background": "light"
     },
     "output_type": "display_data"
    }
   ],
   "source": [
    "import seaborn as sns\n",
    "import matplotlib.pyplot as plt\n",
    "corelation=df4.corr()\n",
    "plt.subplots(figsize=(20,20))\n",
    "sns.heatmap(corelation,xticklabels=df4.columns,yticklabels=df4.columns,annot=True)"
   ]
  },
  {
   "cell_type": "code",
   "execution_count": 2,
   "id": "ea3120c3",
   "metadata": {},
   "outputs": [
    {
     "data": {
      "text/plain": [
       "<seaborn.axisgrid.FacetGrid at 0x1c25e6d4610>"
      ]
     },
     "execution_count": 2,
     "metadata": {},
     "output_type": "execute_result"
    },
    {
     "data": {
      "image/png": "[encoded data removed]",
      "text/plain": [
       "<Figure size 437.875x360 with 1 Axes>"
      ]
     },
     "metadata": {
      "needs_background": "light"
     },
     "output_type": "display_data"
    }
   ],
   "source": [
    "import seaborn as sns \n",
    "import pandas as pd\n",
    "import numpy as np\n",
    "df=pd.read_csv(r\"C:\\Users\\hi\\Documents\\Australian_Weather.csv\")\n",
    "sns.relplot(x=\"MinTemp\",y=\"Temp9am\",hue=\"RainTomorrow\",data=df)"
   ]
  },
  {
   "cell_type": "markdown",
   "id": "402f97c8",
   "metadata": {},
   "source": [
    "# Feature Engineering"
   ]
  },
  {
   "cell_type": "markdown",
   "id": "5ff79187",
   "metadata": {},
   "source": [
    "## One Hot Encoding"
   ]
  },
  {
   "cell_type": "code",
   "execution_count": 44,
   "id": "e5e0ed90",
   "metadata": {},
   "outputs": [],
   "source": [
    "df['RainToday']=df['RainToday'].replace('No',0)\n",
    "df['RainToday']=df['RainToday'].replace('Yes',1)\n",
    "df['RainTomorrow']=df['RainTomorrow'].replace('No',0)\n",
    "df['RainTomorrow']=df['RainTomorrow'].replace('Yes',1)\n"
   ]
  },
  {
   "cell_type": "code",
   "execution_count": 45,
   "id": "2846dddd",
   "metadata": {
    "scrolled": false
   },
   "outputs": [
    {
     "data": {
      "text/html": [
       "<div>\n",
       "<style scoped>\n",
       "    .dataframe tbody tr th:only-of-type {\n",
       "        vertical-align: middle;\n",
       "    }\n",
       "\n",
       "    .dataframe tbody tr th {\n",
       "        vertical-align: top;\n",
       "    }\n",
       "\n",
       "    .dataframe thead th {\n",
       "        text-align: right;\n",
       "    }\n",
       "</style>\n",
       "<table border=\"1\" class=\"dataframe\">\n",
       "  <thead>\n",
       "    <tr style=\"text-align: right;\">\n",
       "      <th></th>\n",
       "      <th>Date</th>\n",
       "      <th>Location</th>\n",
       "      <th>MinTemp</th>\n",
       "      <th>MaxTemp</th>\n",
       "      <th>Rainfall</th>\n",
       "      <th>Evaporation</th>\n",
       "      <th>Sunshine</th>\n",
       "      <th>WindGustDir</th>\n",
       "      <th>WindGustSpeed</th>\n",
       "      <th>WindDir9am</th>\n",
       "      <th>...</th>\n",
       "      <th>Humidity9am</th>\n",
       "      <th>Humidity3pm</th>\n",
       "      <th>Pressure9am</th>\n",
       "      <th>Pressure3pm</th>\n",
       "      <th>Cloud9am</th>\n",
       "      <th>Cloud3pm</th>\n",
       "      <th>Temp9am</th>\n",
       "      <th>Temp3pm</th>\n",
       "      <th>RainToday</th>\n",
       "      <th>RainTomorrow</th>\n",
       "    </tr>\n",
       "  </thead>\n",
       "  <tbody>\n",
       "    <tr>\n",
       "      <th>0</th>\n",
       "      <td>01-12-2008</td>\n",
       "      <td>0</td>\n",
       "      <td>13.4</td>\n",
       "      <td>22.9</td>\n",
       "      <td>0.6</td>\n",
       "      <td>NaN</td>\n",
       "      <td>NaN</td>\n",
       "      <td>0</td>\n",
       "      <td>44.0</td>\n",
       "      <td>0</td>\n",
       "      <td>...</td>\n",
       "      <td>71.0</td>\n",
       "      <td>22.0</td>\n",
       "      <td>1007.7</td>\n",
       "      <td>1007.1</td>\n",
       "      <td>8.0</td>\n",
       "      <td>NaN</td>\n",
       "      <td>16.9</td>\n",
       "      <td>21.8</td>\n",
       "      <td>0.0</td>\n",
       "      <td>0.0</td>\n",
       "    </tr>\n",
       "    <tr>\n",
       "      <th>1</th>\n",
       "      <td>02-12-2008</td>\n",
       "      <td>0</td>\n",
       "      <td>7.4</td>\n",
       "      <td>25.1</td>\n",
       "      <td>0.0</td>\n",
       "      <td>NaN</td>\n",
       "      <td>NaN</td>\n",
       "      <td>1</td>\n",
       "      <td>44.0</td>\n",
       "      <td>1</td>\n",
       "      <td>...</td>\n",
       "      <td>44.0</td>\n",
       "      <td>25.0</td>\n",
       "      <td>1010.6</td>\n",
       "      <td>1007.8</td>\n",
       "      <td>NaN</td>\n",
       "      <td>NaN</td>\n",
       "      <td>17.2</td>\n",
       "      <td>24.3</td>\n",
       "      <td>0.0</td>\n",
       "      <td>0.0</td>\n",
       "    </tr>\n",
       "    <tr>\n",
       "      <th>2</th>\n",
       "      <td>03-12-2008</td>\n",
       "      <td>0</td>\n",
       "      <td>12.9</td>\n",
       "      <td>25.7</td>\n",
       "      <td>0.0</td>\n",
       "      <td>NaN</td>\n",
       "      <td>NaN</td>\n",
       "      <td>2</td>\n",
       "      <td>46.0</td>\n",
       "      <td>0</td>\n",
       "      <td>...</td>\n",
       "      <td>38.0</td>\n",
       "      <td>30.0</td>\n",
       "      <td>1007.6</td>\n",
       "      <td>1008.7</td>\n",
       "      <td>NaN</td>\n",
       "      <td>2.0</td>\n",
       "      <td>21.0</td>\n",
       "      <td>23.2</td>\n",
       "      <td>0.0</td>\n",
       "      <td>0.0</td>\n",
       "    </tr>\n",
       "    <tr>\n",
       "      <th>3</th>\n",
       "      <td>04-12-2008</td>\n",
       "      <td>0</td>\n",
       "      <td>9.2</td>\n",
       "      <td>28.0</td>\n",
       "      <td>0.0</td>\n",
       "      <td>NaN</td>\n",
       "      <td>NaN</td>\n",
       "      <td>3</td>\n",
       "      <td>24.0</td>\n",
       "      <td>2</td>\n",
       "      <td>...</td>\n",
       "      <td>45.0</td>\n",
       "      <td>16.0</td>\n",
       "      <td>1017.6</td>\n",
       "      <td>1012.8</td>\n",
       "      <td>NaN</td>\n",
       "      <td>NaN</td>\n",
       "      <td>18.1</td>\n",
       "      <td>26.5</td>\n",
       "      <td>0.0</td>\n",
       "      <td>0.0</td>\n",
       "    </tr>\n",
       "    <tr>\n",
       "      <th>4</th>\n",
       "      <td>05-12-2008</td>\n",
       "      <td>0</td>\n",
       "      <td>17.5</td>\n",
       "      <td>32.3</td>\n",
       "      <td>1.0</td>\n",
       "      <td>NaN</td>\n",
       "      <td>NaN</td>\n",
       "      <td>0</td>\n",
       "      <td>41.0</td>\n",
       "      <td>3</td>\n",
       "      <td>...</td>\n",
       "      <td>82.0</td>\n",
       "      <td>33.0</td>\n",
       "      <td>1010.8</td>\n",
       "      <td>1006.0</td>\n",
       "      <td>7.0</td>\n",
       "      <td>8.0</td>\n",
       "      <td>17.8</td>\n",
       "      <td>29.7</td>\n",
       "      <td>0.0</td>\n",
       "      <td>0.0</td>\n",
       "    </tr>\n",
       "    <tr>\n",
       "      <th>...</th>\n",
       "      <td>...</td>\n",
       "      <td>...</td>\n",
       "      <td>...</td>\n",
       "      <td>...</td>\n",
       "      <td>...</td>\n",
       "      <td>...</td>\n",
       "      <td>...</td>\n",
       "      <td>...</td>\n",
       "      <td>...</td>\n",
       "      <td>...</td>\n",
       "      <td>...</td>\n",
       "      <td>...</td>\n",
       "      <td>...</td>\n",
       "      <td>...</td>\n",
       "      <td>...</td>\n",
       "      <td>...</td>\n",
       "      <td>...</td>\n",
       "      <td>...</td>\n",
       "      <td>...</td>\n",
       "      <td>...</td>\n",
       "      <td>...</td>\n",
       "    </tr>\n",
       "    <tr>\n",
       "      <th>145455</th>\n",
       "      <td>21-06-2017</td>\n",
       "      <td>48</td>\n",
       "      <td>2.8</td>\n",
       "      <td>23.4</td>\n",
       "      <td>0.0</td>\n",
       "      <td>NaN</td>\n",
       "      <td>NaN</td>\n",
       "      <td>15</td>\n",
       "      <td>31.0</td>\n",
       "      <td>2</td>\n",
       "      <td>...</td>\n",
       "      <td>51.0</td>\n",
       "      <td>24.0</td>\n",
       "      <td>1024.6</td>\n",
       "      <td>1020.3</td>\n",
       "      <td>NaN</td>\n",
       "      <td>NaN</td>\n",
       "      <td>10.1</td>\n",
       "      <td>22.4</td>\n",
       "      <td>0.0</td>\n",
       "      <td>0.0</td>\n",
       "    </tr>\n",
       "    <tr>\n",
       "      <th>145456</th>\n",
       "      <td>22-06-2017</td>\n",
       "      <td>48</td>\n",
       "      <td>3.6</td>\n",
       "      <td>25.3</td>\n",
       "      <td>0.0</td>\n",
       "      <td>NaN</td>\n",
       "      <td>NaN</td>\n",
       "      <td>4</td>\n",
       "      <td>22.0</td>\n",
       "      <td>2</td>\n",
       "      <td>...</td>\n",
       "      <td>56.0</td>\n",
       "      <td>21.0</td>\n",
       "      <td>1023.5</td>\n",
       "      <td>1019.1</td>\n",
       "      <td>NaN</td>\n",
       "      <td>NaN</td>\n",
       "      <td>10.9</td>\n",
       "      <td>24.5</td>\n",
       "      <td>0.0</td>\n",
       "      <td>0.0</td>\n",
       "    </tr>\n",
       "    <tr>\n",
       "      <th>145457</th>\n",
       "      <td>23-06-2017</td>\n",
       "      <td>48</td>\n",
       "      <td>5.4</td>\n",
       "      <td>26.9</td>\n",
       "      <td>0.0</td>\n",
       "      <td>NaN</td>\n",
       "      <td>NaN</td>\n",
       "      <td>5</td>\n",
       "      <td>37.0</td>\n",
       "      <td>2</td>\n",
       "      <td>...</td>\n",
       "      <td>53.0</td>\n",
       "      <td>24.0</td>\n",
       "      <td>1021.0</td>\n",
       "      <td>1016.8</td>\n",
       "      <td>NaN</td>\n",
       "      <td>NaN</td>\n",
       "      <td>12.5</td>\n",
       "      <td>26.1</td>\n",
       "      <td>0.0</td>\n",
       "      <td>0.0</td>\n",
       "    </tr>\n",
       "    <tr>\n",
       "      <th>145458</th>\n",
       "      <td>24-06-2017</td>\n",
       "      <td>48</td>\n",
       "      <td>7.8</td>\n",
       "      <td>27.0</td>\n",
       "      <td>0.0</td>\n",
       "      <td>NaN</td>\n",
       "      <td>NaN</td>\n",
       "      <td>13</td>\n",
       "      <td>28.0</td>\n",
       "      <td>5</td>\n",
       "      <td>...</td>\n",
       "      <td>51.0</td>\n",
       "      <td>24.0</td>\n",
       "      <td>1019.4</td>\n",
       "      <td>1016.5</td>\n",
       "      <td>3.0</td>\n",
       "      <td>2.0</td>\n",
       "      <td>15.1</td>\n",
       "      <td>26.0</td>\n",
       "      <td>0.0</td>\n",
       "      <td>0.0</td>\n",
       "    </tr>\n",
       "    <tr>\n",
       "      <th>145459</th>\n",
       "      <td>25-06-2017</td>\n",
       "      <td>48</td>\n",
       "      <td>14.9</td>\n",
       "      <td>NaN</td>\n",
       "      <td>0.0</td>\n",
       "      <td>NaN</td>\n",
       "      <td>NaN</td>\n",
       "      <td>8</td>\n",
       "      <td>NaN</td>\n",
       "      <td>12</td>\n",
       "      <td>...</td>\n",
       "      <td>62.0</td>\n",
       "      <td>36.0</td>\n",
       "      <td>1020.2</td>\n",
       "      <td>1017.9</td>\n",
       "      <td>8.0</td>\n",
       "      <td>8.0</td>\n",
       "      <td>15.0</td>\n",
       "      <td>20.9</td>\n",
       "      <td>0.0</td>\n",
       "      <td>NaN</td>\n",
       "    </tr>\n",
       "  </tbody>\n",
       "</table>\n",
       "<p>145460 rows × 23 columns</p>\n",
       "</div>"
      ],
      "text/plain": [
       "              Date  Location  MinTemp  MaxTemp  Rainfall  Evaporation  \\\n",
       "0       01-12-2008         0     13.4     22.9       0.6          NaN   \n",
       "1       02-12-2008         0      7.4     25.1       0.0          NaN   \n",
       "2       03-12-2008         0     12.9     25.7       0.0          NaN   \n",
       "3       04-12-2008         0      9.2     28.0       0.0          NaN   \n",
       "4       05-12-2008         0     17.5     32.3       1.0          NaN   \n",
       "...            ...       ...      ...      ...       ...          ...   \n",
       "145455  21-06-2017        48      2.8     23.4       0.0          NaN   \n",
       "145456  22-06-2017        48      3.6     25.3       0.0          NaN   \n",
       "145457  23-06-2017        48      5.4     26.9       0.0          NaN   \n",
       "145458  24-06-2017        48      7.8     27.0       0.0          NaN   \n",
       "145459  25-06-2017        48     14.9      NaN       0.0          NaN   \n",
       "\n",
       "        Sunshine  WindGustDir  WindGustSpeed  WindDir9am  ...  Humidity9am  \\\n",
       "0            NaN            0           44.0           0  ...         71.0   \n",
       "1            NaN            1           44.0           1  ...         44.0   \n",
       "2            NaN            2           46.0           0  ...         38.0   \n",
       "3            NaN            3           24.0           2  ...         45.0   \n",
       "4            NaN            0           41.0           3  ...         82.0   \n",
       "...          ...          ...            ...         ...  ...          ...   \n",
       "145455       NaN           15           31.0           2  ...         51.0   \n",
       "145456       NaN            4           22.0           2  ...         56.0   \n",
       "145457       NaN            5           37.0           2  ...         53.0   \n",
       "145458       NaN           13           28.0           5  ...         51.0   \n",
       "145459       NaN            8            NaN          12  ...         62.0   \n",
       "\n",
       "        Humidity3pm  Pressure9am  Pressure3pm  Cloud9am  Cloud3pm  Temp9am  \\\n",
       "0              22.0       1007.7       1007.1       8.0       NaN     16.9   \n",
       "1              25.0       1010.6       1007.8       NaN       NaN     17.2   \n",
       "2              30.0       1007.6       1008.7       NaN       2.0     21.0   \n",
       "3              16.0       1017.6       1012.8       NaN       NaN     18.1   \n",
       "4              33.0       1010.8       1006.0       7.0       8.0     17.8   \n",
       "...             ...          ...          ...       ...       ...      ...   \n",
       "145455         24.0       1024.6       1020.3       NaN       NaN     10.1   \n",
       "145456         21.0       1023.5       1019.1       NaN       NaN     10.9   \n",
       "145457         24.0       1021.0       1016.8       NaN       NaN     12.5   \n",
       "145458         24.0       1019.4       1016.5       3.0       2.0     15.1   \n",
       "145459         36.0       1020.2       1017.9       8.0       8.0     15.0   \n",
       "\n",
       "        Temp3pm  RainToday  RainTomorrow  \n",
       "0          21.8        0.0           0.0  \n",
       "1          24.3        0.0           0.0  \n",
       "2          23.2        0.0           0.0  \n",
       "3          26.5        0.0           0.0  \n",
       "4          29.7        0.0           0.0  \n",
       "...         ...        ...           ...  \n",
       "145455     22.4        0.0           0.0  \n",
       "145456     24.5        0.0           0.0  \n",
       "145457     26.1        0.0           0.0  \n",
       "145458     26.0        0.0           0.0  \n",
       "145459     20.9        0.0           NaN  \n",
       "\n",
       "[145460 rows x 23 columns]"
      ]
     },
     "execution_count": 45,
     "metadata": {},
     "output_type": "execute_result"
    }
   ],
   "source": [
    "def encode_data(c):\n",
    "\n",
    "    ''' \n",
    "\n",
    "    This function takes c as a parameter and returns mapping dictionary to replace(or map) categorical data with numerical data.\n",
    "\n",
    "    '''\n",
    "\n",
    "    m = {}\n",
    "\n",
    "    unique = list(df[c].unique())\n",
    "\n",
    "    for i in range(len(unique)):\n",
    "\n",
    "        m[unique[i]] = i\n",
    "\n",
    "    return m\n",
    "df['WindGustDir'].replace(encode_data('WindGustDir'),inplace = True)\n",
    "df['WindDir9am'].replace(encode_data('WindDir9am'),inplace = True)\n",
    "df['WindDir3pm'].replace(encode_data('WindDir3pm'),inplace = True)\n",
    "df['Location'].replace(encode_data('Location'),inplace = True)\n",
    "df\n"
   ]
  },
  {
   "cell_type": "markdown",
   "id": "78e4369c",
   "metadata": {},
   "source": [
    "## Outlier Treatment "
   ]
  },
  {
   "cell_type": "code",
   "execution_count": 48,
   "id": "9277bbbd",
   "metadata": {},
   "outputs": [],
   "source": [
    "features_with_outliers = ['MinTemp', 'MaxTemp', 'Rainfall', 'Evaporation', 'WindGustSpeed','WindSpeed9am', 'WindSpeed3pm', 'Humidity9am', 'Pressure9am', 'Pressure3pm', 'Temp9am', 'Temp3pm']\n",
    "for feature in features_with_outliers:\n",
    "    q1 = df[feature].quantile(0.25)\n",
    "    q3 = df[feature].quantile(0.75)\n",
    "    IQR = q3-q1\n",
    "    lower_limit = q1 - (IQR*1.5)\n",
    "    upper_limit = q3 + (IQR*1.5)\n",
    "    df.loc[df[feature]<lower_limit,feature] = lower_limit\n",
    "    df.loc[df[feature]>upper_limit,feature] = upper_limit"
   ]
  },
  {
   "cell_type": "markdown",
   "id": "82cc92bb",
   "metadata": {},
   "source": [
    "## Filling Null values"
   ]
  },
  {
   "cell_type": "code",
   "execution_count": 37,
   "id": "3fb0aad9",
   "metadata": {
    "scrolled": false
   },
   "outputs": [
    {
     "data": {
      "text/plain": [
       "Date                 0\n",
       "Location             0\n",
       "MinTemp           1485\n",
       "MaxTemp           1261\n",
       "Rainfall          3261\n",
       "Evaporation      62790\n",
       "Sunshine         69835\n",
       "WindGustDir      10326\n",
       "WindGustSpeed    10263\n",
       "WindDir9am       10566\n",
       "WindDir3pm        4228\n",
       "WindSpeed9am      1767\n",
       "WindSpeed3pm      3062\n",
       "Humidity9am       2654\n",
       "Humidity3pm       4507\n",
       "Pressure9am      15065\n",
       "Pressure3pm      15028\n",
       "Cloud9am         55888\n",
       "Cloud3pm         59358\n",
       "Temp9am           1767\n",
       "Temp3pm           3609\n",
       "RainToday         3261\n",
       "RainTomorrow      3267\n",
       "dtype: int64"
      ]
     },
     "execution_count": 37,
     "metadata": {},
     "output_type": "execute_result"
    }
   ],
   "source": [
    "df.isnull().sum()"
   ]
  },
  {
   "cell_type": "code",
   "execution_count": 50,
   "id": "2345d809",
   "metadata": {
    "scrolled": true
   },
   "outputs": [],
   "source": [
    "numerical_features = [column_name for column_name in df.columns if df[column_name].dtype != 'O']\n",
    "\n",
    "numerical_features_with_null = [feature for feature in numerical_features if df[feature].isnull().sum()]\n",
    "for feature in numerical_features_with_null:\n",
    "    mean_value = df[feature].mean()\n",
    "    df[feature].fillna(mean_value,inplace=True)\n",
    "\n",
    "\n"
   ]
  },
  {
   "cell_type": "code",
   "execution_count": 90,
   "id": "3c35a938",
   "metadata": {},
   "outputs": [],
   "source": [
    "categorical_features = [i for i in df.columns if df[i].dtype == 'O']\n",
    "df[categorical_features].isnull().sum()\n",
    "categorical_features_with_null = [feature for feature in categorical_features if df[feature].isnull().sum()]\n",
    "for each_feature in categorical_features_with_null:\n",
    "    mode_val = df[each_feature].mode()[0]\n",
    "    df[each_feature].fillna(mode_val,inplace=True)"
   ]
  },
  {
   "cell_type": "code",
   "execution_count": 51,
   "id": "0ecd9e48",
   "metadata": {
    "scrolled": true
   },
   "outputs": [
    {
     "data": {
      "text/html": [
       "<div>\n",
       "<style scoped>\n",
       "    .dataframe tbody tr th:only-of-type {\n",
       "        vertical-align: middle;\n",
       "    }\n",
       "\n",
       "    .dataframe tbody tr th {\n",
       "        vertical-align: top;\n",
       "    }\n",
       "\n",
       "    .dataframe thead th {\n",
       "        text-align: right;\n",
       "    }\n",
       "</style>\n",
       "<table border=\"1\" class=\"dataframe\">\n",
       "  <thead>\n",
       "    <tr style=\"text-align: right;\">\n",
       "      <th></th>\n",
       "      <th>Date</th>\n",
       "      <th>Location</th>\n",
       "      <th>MinTemp</th>\n",
       "      <th>MaxTemp</th>\n",
       "      <th>Rainfall</th>\n",
       "      <th>Evaporation</th>\n",
       "      <th>Sunshine</th>\n",
       "      <th>WindGustDir</th>\n",
       "      <th>WindGustSpeed</th>\n",
       "      <th>WindDir9am</th>\n",
       "      <th>...</th>\n",
       "      <th>Humidity9am</th>\n",
       "      <th>Humidity3pm</th>\n",
       "      <th>Pressure9am</th>\n",
       "      <th>Pressure3pm</th>\n",
       "      <th>Cloud9am</th>\n",
       "      <th>Cloud3pm</th>\n",
       "      <th>Temp9am</th>\n",
       "      <th>Temp3pm</th>\n",
       "      <th>RainToday</th>\n",
       "      <th>RainTomorrow</th>\n",
       "    </tr>\n",
       "  </thead>\n",
       "  <tbody>\n",
       "    <tr>\n",
       "      <th>0</th>\n",
       "      <td>01-12-2008</td>\n",
       "      <td>0</td>\n",
       "      <td>13.4</td>\n",
       "      <td>22.900000</td>\n",
       "      <td>0.6</td>\n",
       "      <td>5.468232</td>\n",
       "      <td>7.611178</td>\n",
       "      <td>0</td>\n",
       "      <td>44.00000</td>\n",
       "      <td>0</td>\n",
       "      <td>...</td>\n",
       "      <td>71.0</td>\n",
       "      <td>22.0</td>\n",
       "      <td>1007.7</td>\n",
       "      <td>1007.1</td>\n",
       "      <td>8.000000</td>\n",
       "      <td>4.50993</td>\n",
       "      <td>16.9</td>\n",
       "      <td>21.8</td>\n",
       "      <td>0.0</td>\n",
       "      <td>0.000000</td>\n",
       "    </tr>\n",
       "    <tr>\n",
       "      <th>1</th>\n",
       "      <td>02-12-2008</td>\n",
       "      <td>0</td>\n",
       "      <td>7.4</td>\n",
       "      <td>25.100000</td>\n",
       "      <td>0.0</td>\n",
       "      <td>5.468232</td>\n",
       "      <td>7.611178</td>\n",
       "      <td>1</td>\n",
       "      <td>44.00000</td>\n",
       "      <td>1</td>\n",
       "      <td>...</td>\n",
       "      <td>44.0</td>\n",
       "      <td>25.0</td>\n",
       "      <td>1010.6</td>\n",
       "      <td>1007.8</td>\n",
       "      <td>4.447461</td>\n",
       "      <td>4.50993</td>\n",
       "      <td>17.2</td>\n",
       "      <td>24.3</td>\n",
       "      <td>0.0</td>\n",
       "      <td>0.000000</td>\n",
       "    </tr>\n",
       "    <tr>\n",
       "      <th>2</th>\n",
       "      <td>03-12-2008</td>\n",
       "      <td>0</td>\n",
       "      <td>12.9</td>\n",
       "      <td>25.700000</td>\n",
       "      <td>0.0</td>\n",
       "      <td>5.468232</td>\n",
       "      <td>7.611178</td>\n",
       "      <td>2</td>\n",
       "      <td>46.00000</td>\n",
       "      <td>0</td>\n",
       "      <td>...</td>\n",
       "      <td>38.0</td>\n",
       "      <td>30.0</td>\n",
       "      <td>1007.6</td>\n",
       "      <td>1008.7</td>\n",
       "      <td>4.447461</td>\n",
       "      <td>2.00000</td>\n",
       "      <td>21.0</td>\n",
       "      <td>23.2</td>\n",
       "      <td>0.0</td>\n",
       "      <td>0.000000</td>\n",
       "    </tr>\n",
       "    <tr>\n",
       "      <th>3</th>\n",
       "      <td>04-12-2008</td>\n",
       "      <td>0</td>\n",
       "      <td>9.2</td>\n",
       "      <td>28.000000</td>\n",
       "      <td>0.0</td>\n",
       "      <td>5.468232</td>\n",
       "      <td>7.611178</td>\n",
       "      <td>3</td>\n",
       "      <td>24.00000</td>\n",
       "      <td>2</td>\n",
       "      <td>...</td>\n",
       "      <td>45.0</td>\n",
       "      <td>16.0</td>\n",
       "      <td>1017.6</td>\n",
       "      <td>1012.8</td>\n",
       "      <td>4.447461</td>\n",
       "      <td>4.50993</td>\n",
       "      <td>18.1</td>\n",
       "      <td>26.5</td>\n",
       "      <td>0.0</td>\n",
       "      <td>0.000000</td>\n",
       "    </tr>\n",
       "    <tr>\n",
       "      <th>4</th>\n",
       "      <td>05-12-2008</td>\n",
       "      <td>0</td>\n",
       "      <td>17.5</td>\n",
       "      <td>32.300000</td>\n",
       "      <td>1.0</td>\n",
       "      <td>5.468232</td>\n",
       "      <td>7.611178</td>\n",
       "      <td>0</td>\n",
       "      <td>41.00000</td>\n",
       "      <td>3</td>\n",
       "      <td>...</td>\n",
       "      <td>82.0</td>\n",
       "      <td>33.0</td>\n",
       "      <td>1010.8</td>\n",
       "      <td>1006.0</td>\n",
       "      <td>7.000000</td>\n",
       "      <td>8.00000</td>\n",
       "      <td>17.8</td>\n",
       "      <td>29.7</td>\n",
       "      <td>0.0</td>\n",
       "      <td>0.000000</td>\n",
       "    </tr>\n",
       "    <tr>\n",
       "      <th>...</th>\n",
       "      <td>...</td>\n",
       "      <td>...</td>\n",
       "      <td>...</td>\n",
       "      <td>...</td>\n",
       "      <td>...</td>\n",
       "      <td>...</td>\n",
       "      <td>...</td>\n",
       "      <td>...</td>\n",
       "      <td>...</td>\n",
       "      <td>...</td>\n",
       "      <td>...</td>\n",
       "      <td>...</td>\n",
       "      <td>...</td>\n",
       "      <td>...</td>\n",
       "      <td>...</td>\n",
       "      <td>...</td>\n",
       "      <td>...</td>\n",
       "      <td>...</td>\n",
       "      <td>...</td>\n",
       "      <td>...</td>\n",
       "      <td>...</td>\n",
       "    </tr>\n",
       "    <tr>\n",
       "      <th>145455</th>\n",
       "      <td>21-06-2017</td>\n",
       "      <td>48</td>\n",
       "      <td>2.8</td>\n",
       "      <td>23.400000</td>\n",
       "      <td>0.0</td>\n",
       "      <td>5.468232</td>\n",
       "      <td>7.611178</td>\n",
       "      <td>15</td>\n",
       "      <td>31.00000</td>\n",
       "      <td>2</td>\n",
       "      <td>...</td>\n",
       "      <td>51.0</td>\n",
       "      <td>24.0</td>\n",
       "      <td>1024.6</td>\n",
       "      <td>1020.3</td>\n",
       "      <td>4.447461</td>\n",
       "      <td>4.50993</td>\n",
       "      <td>10.1</td>\n",
       "      <td>22.4</td>\n",
       "      <td>0.0</td>\n",
       "      <td>0.000000</td>\n",
       "    </tr>\n",
       "    <tr>\n",
       "      <th>145456</th>\n",
       "      <td>22-06-2017</td>\n",
       "      <td>48</td>\n",
       "      <td>3.6</td>\n",
       "      <td>25.300000</td>\n",
       "      <td>0.0</td>\n",
       "      <td>5.468232</td>\n",
       "      <td>7.611178</td>\n",
       "      <td>4</td>\n",
       "      <td>22.00000</td>\n",
       "      <td>2</td>\n",
       "      <td>...</td>\n",
       "      <td>56.0</td>\n",
       "      <td>21.0</td>\n",
       "      <td>1023.5</td>\n",
       "      <td>1019.1</td>\n",
       "      <td>4.447461</td>\n",
       "      <td>4.50993</td>\n",
       "      <td>10.9</td>\n",
       "      <td>24.5</td>\n",
       "      <td>0.0</td>\n",
       "      <td>0.000000</td>\n",
       "    </tr>\n",
       "    <tr>\n",
       "      <th>145457</th>\n",
       "      <td>23-06-2017</td>\n",
       "      <td>48</td>\n",
       "      <td>5.4</td>\n",
       "      <td>26.900000</td>\n",
       "      <td>0.0</td>\n",
       "      <td>5.468232</td>\n",
       "      <td>7.611178</td>\n",
       "      <td>5</td>\n",
       "      <td>37.00000</td>\n",
       "      <td>2</td>\n",
       "      <td>...</td>\n",
       "      <td>53.0</td>\n",
       "      <td>24.0</td>\n",
       "      <td>1021.0</td>\n",
       "      <td>1016.8</td>\n",
       "      <td>4.447461</td>\n",
       "      <td>4.50993</td>\n",
       "      <td>12.5</td>\n",
       "      <td>26.1</td>\n",
       "      <td>0.0</td>\n",
       "      <td>0.000000</td>\n",
       "    </tr>\n",
       "    <tr>\n",
       "      <th>145458</th>\n",
       "      <td>24-06-2017</td>\n",
       "      <td>48</td>\n",
       "      <td>7.8</td>\n",
       "      <td>27.000000</td>\n",
       "      <td>0.0</td>\n",
       "      <td>5.468232</td>\n",
       "      <td>7.611178</td>\n",
       "      <td>13</td>\n",
       "      <td>28.00000</td>\n",
       "      <td>5</td>\n",
       "      <td>...</td>\n",
       "      <td>51.0</td>\n",
       "      <td>24.0</td>\n",
       "      <td>1019.4</td>\n",
       "      <td>1016.5</td>\n",
       "      <td>3.000000</td>\n",
       "      <td>2.00000</td>\n",
       "      <td>15.1</td>\n",
       "      <td>26.0</td>\n",
       "      <td>0.0</td>\n",
       "      <td>0.000000</td>\n",
       "    </tr>\n",
       "    <tr>\n",
       "      <th>145459</th>\n",
       "      <td>25-06-2017</td>\n",
       "      <td>48</td>\n",
       "      <td>14.9</td>\n",
       "      <td>23.221348</td>\n",
       "      <td>0.0</td>\n",
       "      <td>5.468232</td>\n",
       "      <td>7.611178</td>\n",
       "      <td>8</td>\n",
       "      <td>40.03523</td>\n",
       "      <td>12</td>\n",
       "      <td>...</td>\n",
       "      <td>62.0</td>\n",
       "      <td>36.0</td>\n",
       "      <td>1020.2</td>\n",
       "      <td>1017.9</td>\n",
       "      <td>8.000000</td>\n",
       "      <td>8.00000</td>\n",
       "      <td>15.0</td>\n",
       "      <td>20.9</td>\n",
       "      <td>0.0</td>\n",
       "      <td>0.224181</td>\n",
       "    </tr>\n",
       "  </tbody>\n",
       "</table>\n",
       "<p>145460 rows × 23 columns</p>\n",
       "</div>"
      ],
      "text/plain": [
       "              Date  Location  MinTemp    MaxTemp  Rainfall  Evaporation  \\\n",
       "0       01-12-2008         0     13.4  22.900000       0.6     5.468232   \n",
       "1       02-12-2008         0      7.4  25.100000       0.0     5.468232   \n",
       "2       03-12-2008         0     12.9  25.700000       0.0     5.468232   \n",
       "3       04-12-2008         0      9.2  28.000000       0.0     5.468232   \n",
       "4       05-12-2008         0     17.5  32.300000       1.0     5.468232   \n",
       "...            ...       ...      ...        ...       ...          ...   \n",
       "145455  21-06-2017        48      2.8  23.400000       0.0     5.468232   \n",
       "145456  22-06-2017        48      3.6  25.300000       0.0     5.468232   \n",
       "145457  23-06-2017        48      5.4  26.900000       0.0     5.468232   \n",
       "145458  24-06-2017        48      7.8  27.000000       0.0     5.468232   \n",
       "145459  25-06-2017        48     14.9  23.221348       0.0     5.468232   \n",
       "\n",
       "        Sunshine  WindGustDir  WindGustSpeed  WindDir9am  ...  Humidity9am  \\\n",
       "0       7.611178            0       44.00000           0  ...         71.0   \n",
       "1       7.611178            1       44.00000           1  ...         44.0   \n",
       "2       7.611178            2       46.00000           0  ...         38.0   \n",
       "3       7.611178            3       24.00000           2  ...         45.0   \n",
       "4       7.611178            0       41.00000           3  ...         82.0   \n",
       "...          ...          ...            ...         ...  ...          ...   \n",
       "145455  7.611178           15       31.00000           2  ...         51.0   \n",
       "145456  7.611178            4       22.00000           2  ...         56.0   \n",
       "145457  7.611178            5       37.00000           2  ...         53.0   \n",
       "145458  7.611178           13       28.00000           5  ...         51.0   \n",
       "145459  7.611178            8       40.03523          12  ...         62.0   \n",
       "\n",
       "        Humidity3pm  Pressure9am  Pressure3pm  Cloud9am  Cloud3pm  Temp9am  \\\n",
       "0              22.0       1007.7       1007.1  8.000000   4.50993     16.9   \n",
       "1              25.0       1010.6       1007.8  4.447461   4.50993     17.2   \n",
       "2              30.0       1007.6       1008.7  4.447461   2.00000     21.0   \n",
       "3              16.0       1017.6       1012.8  4.447461   4.50993     18.1   \n",
       "4              33.0       1010.8       1006.0  7.000000   8.00000     17.8   \n",
       "...             ...          ...          ...       ...       ...      ...   \n",
       "145455         24.0       1024.6       1020.3  4.447461   4.50993     10.1   \n",
       "145456         21.0       1023.5       1019.1  4.447461   4.50993     10.9   \n",
       "145457         24.0       1021.0       1016.8  4.447461   4.50993     12.5   \n",
       "145458         24.0       1019.4       1016.5  3.000000   2.00000     15.1   \n",
       "145459         36.0       1020.2       1017.9  8.000000   8.00000     15.0   \n",
       "\n",
       "        Temp3pm  RainToday  RainTomorrow  \n",
       "0          21.8        0.0      0.000000  \n",
       "1          24.3        0.0      0.000000  \n",
       "2          23.2        0.0      0.000000  \n",
       "3          26.5        0.0      0.000000  \n",
       "4          29.7        0.0      0.000000  \n",
       "...         ...        ...           ...  \n",
       "145455     22.4        0.0      0.000000  \n",
       "145456     24.5        0.0      0.000000  \n",
       "145457     26.1        0.0      0.000000  \n",
       "145458     26.0        0.0      0.000000  \n",
       "145459     20.9        0.0      0.224181  \n",
       "\n",
       "[145460 rows x 23 columns]"
      ]
     },
     "execution_count": 51,
     "metadata": {},
     "output_type": "execute_result"
    }
   ],
   "source": [
    "df"
   ]
  },
  {
   "cell_type": "markdown",
   "id": "c469ab50",
   "metadata": {},
   "source": [
    "## Creating Month column"
   ]
  },
  {
   "cell_type": "code",
   "execution_count": 32,
   "id": "7f7db743",
   "metadata": {
    "scrolled": false
   },
   "outputs": [
    {
     "data": {
      "text/html": [
       "<div>\n",
       "<style scoped>\n",
       "    .dataframe tbody tr th:only-of-type {\n",
       "        vertical-align: middle;\n",
       "    }\n",
       "\n",
       "    .dataframe tbody tr th {\n",
       "        vertical-align: top;\n",
       "    }\n",
       "\n",
       "    .dataframe thead th {\n",
       "        text-align: right;\n",
       "    }\n",
       "</style>\n",
       "<table border=\"1\" class=\"dataframe\">\n",
       "  <thead>\n",
       "    <tr style=\"text-align: right;\">\n",
       "      <th></th>\n",
       "      <th>Date</th>\n",
       "      <th>Location</th>\n",
       "      <th>MinTemp</th>\n",
       "      <th>MaxTemp</th>\n",
       "      <th>Rainfall</th>\n",
       "      <th>Evaporation</th>\n",
       "      <th>Sunshine</th>\n",
       "      <th>WindGustDir</th>\n",
       "      <th>WindGustSpeed</th>\n",
       "      <th>WindDir9am</th>\n",
       "      <th>...</th>\n",
       "      <th>Humidity3pm</th>\n",
       "      <th>Pressure9am</th>\n",
       "      <th>Pressure3pm</th>\n",
       "      <th>Cloud9am</th>\n",
       "      <th>Cloud3pm</th>\n",
       "      <th>Temp9am</th>\n",
       "      <th>Temp3pm</th>\n",
       "      <th>RainToday</th>\n",
       "      <th>RainTomorrow</th>\n",
       "      <th>Month</th>\n",
       "    </tr>\n",
       "  </thead>\n",
       "  <tbody>\n",
       "    <tr>\n",
       "      <th>0</th>\n",
       "      <td>2008-12-01</td>\n",
       "      <td>0</td>\n",
       "      <td>13.4</td>\n",
       "      <td>22.900000</td>\n",
       "      <td>0.6</td>\n",
       "      <td>5.468232</td>\n",
       "      <td>7.611178</td>\n",
       "      <td>0</td>\n",
       "      <td>44.00000</td>\n",
       "      <td>0</td>\n",
       "      <td>...</td>\n",
       "      <td>22.0</td>\n",
       "      <td>1007.7</td>\n",
       "      <td>1007.1</td>\n",
       "      <td>8.000000</td>\n",
       "      <td>4.50993</td>\n",
       "      <td>16.9</td>\n",
       "      <td>21.8</td>\n",
       "      <td>0.0</td>\n",
       "      <td>0.0</td>\n",
       "      <td>December</td>\n",
       "    </tr>\n",
       "    <tr>\n",
       "      <th>1</th>\n",
       "      <td>2008-12-02</td>\n",
       "      <td>0</td>\n",
       "      <td>7.4</td>\n",
       "      <td>25.100000</td>\n",
       "      <td>0.0</td>\n",
       "      <td>5.468232</td>\n",
       "      <td>7.611178</td>\n",
       "      <td>1</td>\n",
       "      <td>44.00000</td>\n",
       "      <td>1</td>\n",
       "      <td>...</td>\n",
       "      <td>25.0</td>\n",
       "      <td>1010.6</td>\n",
       "      <td>1007.8</td>\n",
       "      <td>4.447461</td>\n",
       "      <td>4.50993</td>\n",
       "      <td>17.2</td>\n",
       "      <td>24.3</td>\n",
       "      <td>0.0</td>\n",
       "      <td>0.0</td>\n",
       "      <td>December</td>\n",
       "    </tr>\n",
       "    <tr>\n",
       "      <th>2</th>\n",
       "      <td>2008-12-03</td>\n",
       "      <td>0</td>\n",
       "      <td>12.9</td>\n",
       "      <td>25.700000</td>\n",
       "      <td>0.0</td>\n",
       "      <td>5.468232</td>\n",
       "      <td>7.611178</td>\n",
       "      <td>2</td>\n",
       "      <td>46.00000</td>\n",
       "      <td>0</td>\n",
       "      <td>...</td>\n",
       "      <td>30.0</td>\n",
       "      <td>1007.6</td>\n",
       "      <td>1008.7</td>\n",
       "      <td>4.447461</td>\n",
       "      <td>2.00000</td>\n",
       "      <td>21.0</td>\n",
       "      <td>23.2</td>\n",
       "      <td>0.0</td>\n",
       "      <td>0.0</td>\n",
       "      <td>December</td>\n",
       "    </tr>\n",
       "    <tr>\n",
       "      <th>3</th>\n",
       "      <td>2008-12-04</td>\n",
       "      <td>0</td>\n",
       "      <td>9.2</td>\n",
       "      <td>28.000000</td>\n",
       "      <td>0.0</td>\n",
       "      <td>5.468232</td>\n",
       "      <td>7.611178</td>\n",
       "      <td>3</td>\n",
       "      <td>24.00000</td>\n",
       "      <td>2</td>\n",
       "      <td>...</td>\n",
       "      <td>16.0</td>\n",
       "      <td>1017.6</td>\n",
       "      <td>1012.8</td>\n",
       "      <td>4.447461</td>\n",
       "      <td>4.50993</td>\n",
       "      <td>18.1</td>\n",
       "      <td>26.5</td>\n",
       "      <td>0.0</td>\n",
       "      <td>0.0</td>\n",
       "      <td>December</td>\n",
       "    </tr>\n",
       "    <tr>\n",
       "      <th>4</th>\n",
       "      <td>2008-12-05</td>\n",
       "      <td>0</td>\n",
       "      <td>17.5</td>\n",
       "      <td>32.300000</td>\n",
       "      <td>1.0</td>\n",
       "      <td>5.468232</td>\n",
       "      <td>7.611178</td>\n",
       "      <td>0</td>\n",
       "      <td>41.00000</td>\n",
       "      <td>3</td>\n",
       "      <td>...</td>\n",
       "      <td>33.0</td>\n",
       "      <td>1010.8</td>\n",
       "      <td>1006.0</td>\n",
       "      <td>7.000000</td>\n",
       "      <td>8.00000</td>\n",
       "      <td>17.8</td>\n",
       "      <td>29.7</td>\n",
       "      <td>0.0</td>\n",
       "      <td>0.0</td>\n",
       "      <td>December</td>\n",
       "    </tr>\n",
       "    <tr>\n",
       "      <th>...</th>\n",
       "      <td>...</td>\n",
       "      <td>...</td>\n",
       "      <td>...</td>\n",
       "      <td>...</td>\n",
       "      <td>...</td>\n",
       "      <td>...</td>\n",
       "      <td>...</td>\n",
       "      <td>...</td>\n",
       "      <td>...</td>\n",
       "      <td>...</td>\n",
       "      <td>...</td>\n",
       "      <td>...</td>\n",
       "      <td>...</td>\n",
       "      <td>...</td>\n",
       "      <td>...</td>\n",
       "      <td>...</td>\n",
       "      <td>...</td>\n",
       "      <td>...</td>\n",
       "      <td>...</td>\n",
       "      <td>...</td>\n",
       "      <td>...</td>\n",
       "    </tr>\n",
       "    <tr>\n",
       "      <th>145455</th>\n",
       "      <td>2017-06-21</td>\n",
       "      <td>48</td>\n",
       "      <td>2.8</td>\n",
       "      <td>23.400000</td>\n",
       "      <td>0.0</td>\n",
       "      <td>5.468232</td>\n",
       "      <td>7.611178</td>\n",
       "      <td>15</td>\n",
       "      <td>31.00000</td>\n",
       "      <td>2</td>\n",
       "      <td>...</td>\n",
       "      <td>24.0</td>\n",
       "      <td>1024.6</td>\n",
       "      <td>1020.3</td>\n",
       "      <td>4.447461</td>\n",
       "      <td>4.50993</td>\n",
       "      <td>10.1</td>\n",
       "      <td>22.4</td>\n",
       "      <td>0.0</td>\n",
       "      <td>0.0</td>\n",
       "      <td>June</td>\n",
       "    </tr>\n",
       "    <tr>\n",
       "      <th>145456</th>\n",
       "      <td>2017-06-22</td>\n",
       "      <td>48</td>\n",
       "      <td>3.6</td>\n",
       "      <td>25.300000</td>\n",
       "      <td>0.0</td>\n",
       "      <td>5.468232</td>\n",
       "      <td>7.611178</td>\n",
       "      <td>4</td>\n",
       "      <td>22.00000</td>\n",
       "      <td>2</td>\n",
       "      <td>...</td>\n",
       "      <td>21.0</td>\n",
       "      <td>1023.5</td>\n",
       "      <td>1019.1</td>\n",
       "      <td>4.447461</td>\n",
       "      <td>4.50993</td>\n",
       "      <td>10.9</td>\n",
       "      <td>24.5</td>\n",
       "      <td>0.0</td>\n",
       "      <td>0.0</td>\n",
       "      <td>June</td>\n",
       "    </tr>\n",
       "    <tr>\n",
       "      <th>145457</th>\n",
       "      <td>2017-06-23</td>\n",
       "      <td>48</td>\n",
       "      <td>5.4</td>\n",
       "      <td>26.900000</td>\n",
       "      <td>0.0</td>\n",
       "      <td>5.468232</td>\n",
       "      <td>7.611178</td>\n",
       "      <td>5</td>\n",
       "      <td>37.00000</td>\n",
       "      <td>2</td>\n",
       "      <td>...</td>\n",
       "      <td>24.0</td>\n",
       "      <td>1021.0</td>\n",
       "      <td>1016.8</td>\n",
       "      <td>4.447461</td>\n",
       "      <td>4.50993</td>\n",
       "      <td>12.5</td>\n",
       "      <td>26.1</td>\n",
       "      <td>0.0</td>\n",
       "      <td>0.0</td>\n",
       "      <td>June</td>\n",
       "    </tr>\n",
       "    <tr>\n",
       "      <th>145458</th>\n",
       "      <td>2017-06-24</td>\n",
       "      <td>48</td>\n",
       "      <td>7.8</td>\n",
       "      <td>27.000000</td>\n",
       "      <td>0.0</td>\n",
       "      <td>5.468232</td>\n",
       "      <td>7.611178</td>\n",
       "      <td>13</td>\n",
       "      <td>28.00000</td>\n",
       "      <td>5</td>\n",
       "      <td>...</td>\n",
       "      <td>24.0</td>\n",
       "      <td>1019.4</td>\n",
       "      <td>1016.5</td>\n",
       "      <td>3.000000</td>\n",
       "      <td>2.00000</td>\n",
       "      <td>15.1</td>\n",
       "      <td>26.0</td>\n",
       "      <td>0.0</td>\n",
       "      <td>0.0</td>\n",
       "      <td>June</td>\n",
       "    </tr>\n",
       "    <tr>\n",
       "      <th>145459</th>\n",
       "      <td>2017-06-25</td>\n",
       "      <td>48</td>\n",
       "      <td>14.9</td>\n",
       "      <td>23.221348</td>\n",
       "      <td>0.0</td>\n",
       "      <td>5.468232</td>\n",
       "      <td>7.611178</td>\n",
       "      <td>8</td>\n",
       "      <td>40.03523</td>\n",
       "      <td>12</td>\n",
       "      <td>...</td>\n",
       "      <td>36.0</td>\n",
       "      <td>1020.2</td>\n",
       "      <td>1017.9</td>\n",
       "      <td>8.000000</td>\n",
       "      <td>8.00000</td>\n",
       "      <td>15.0</td>\n",
       "      <td>20.9</td>\n",
       "      <td>0.0</td>\n",
       "      <td>NaN</td>\n",
       "      <td>June</td>\n",
       "    </tr>\n",
       "  </tbody>\n",
       "</table>\n",
       "<p>145460 rows × 24 columns</p>\n",
       "</div>"
      ],
      "text/plain": [
       "             Date  Location  MinTemp    MaxTemp  Rainfall  Evaporation  \\\n",
       "0      2008-12-01         0     13.4  22.900000       0.6     5.468232   \n",
       "1      2008-12-02         0      7.4  25.100000       0.0     5.468232   \n",
       "2      2008-12-03         0     12.9  25.700000       0.0     5.468232   \n",
       "3      2008-12-04         0      9.2  28.000000       0.0     5.468232   \n",
       "4      2008-12-05         0     17.5  32.300000       1.0     5.468232   \n",
       "...           ...       ...      ...        ...       ...          ...   \n",
       "145455 2017-06-21        48      2.8  23.400000       0.0     5.468232   \n",
       "145456 2017-06-22        48      3.6  25.300000       0.0     5.468232   \n",
       "145457 2017-06-23        48      5.4  26.900000       0.0     5.468232   \n",
       "145458 2017-06-24        48      7.8  27.000000       0.0     5.468232   \n",
       "145459 2017-06-25        48     14.9  23.221348       0.0     5.468232   \n",
       "\n",
       "        Sunshine  WindGustDir  WindGustSpeed  WindDir9am  ...  Humidity3pm  \\\n",
       "0       7.611178            0       44.00000           0  ...         22.0   \n",
       "1       7.611178            1       44.00000           1  ...         25.0   \n",
       "2       7.611178            2       46.00000           0  ...         30.0   \n",
       "3       7.611178            3       24.00000           2  ...         16.0   \n",
       "4       7.611178            0       41.00000           3  ...         33.0   \n",
       "...          ...          ...            ...         ...  ...          ...   \n",
       "145455  7.611178           15       31.00000           2  ...         24.0   \n",
       "145456  7.611178            4       22.00000           2  ...         21.0   \n",
       "145457  7.611178            5       37.00000           2  ...         24.0   \n",
       "145458  7.611178           13       28.00000           5  ...         24.0   \n",
       "145459  7.611178            8       40.03523          12  ...         36.0   \n",
       "\n",
       "        Pressure9am  Pressure3pm  Cloud9am  Cloud3pm  Temp9am  Temp3pm  \\\n",
       "0            1007.7       1007.1  8.000000   4.50993     16.9     21.8   \n",
       "1            1010.6       1007.8  4.447461   4.50993     17.2     24.3   \n",
       "2            1007.6       1008.7  4.447461   2.00000     21.0     23.2   \n",
       "3            1017.6       1012.8  4.447461   4.50993     18.1     26.5   \n",
       "4            1010.8       1006.0  7.000000   8.00000     17.8     29.7   \n",
       "...             ...          ...       ...       ...      ...      ...   \n",
       "145455       1024.6       1020.3  4.447461   4.50993     10.1     22.4   \n",
       "145456       1023.5       1019.1  4.447461   4.50993     10.9     24.5   \n",
       "145457       1021.0       1016.8  4.447461   4.50993     12.5     26.1   \n",
       "145458       1019.4       1016.5  3.000000   2.00000     15.1     26.0   \n",
       "145459       1020.2       1017.9  8.000000   8.00000     15.0     20.9   \n",
       "\n",
       "        RainToday  RainTomorrow     Month  \n",
       "0             0.0           0.0  December  \n",
       "1             0.0           0.0  December  \n",
       "2             0.0           0.0  December  \n",
       "3             0.0           0.0  December  \n",
       "4             0.0           0.0  December  \n",
       "...           ...           ...       ...  \n",
       "145455        0.0           0.0      June  \n",
       "145456        0.0           0.0      June  \n",
       "145457        0.0           0.0      June  \n",
       "145458        0.0           0.0      June  \n",
       "145459        0.0           NaN      June  \n",
       "\n",
       "[145460 rows x 24 columns]"
      ]
     },
     "execution_count": 32,
     "metadata": {},
     "output_type": "execute_result"
    }
   ],
   "source": [
    "conditions = [\n",
    "    (df['Date'].dt.month == 1),\n",
    "    (df['Date'].dt.month == 2), (df['Date'].dt.month == 3),\n",
    "    (df['Date'].dt.month == 4), (df['Date'].dt.month == 5),\n",
    "    (df['Date'].dt.month == 6),(df['Date'].dt.month == 7),\n",
    "    (df['Date'].dt.month == 8), (df['Date'].dt.month == 9),\n",
    "    (df['Date'].dt.month == 10), (df['Date'].dt.month == 11),\n",
    "    (df['Date'].dt.month == 12)\n",
    "    ]\n",
    "\n",
    "# create a list of the values we want to assign for each condition\n",
    "values = ['January','February','March','April','May','June','July','August','September','October','November','December']\n",
    "\n",
    "# create a new column and use np.select to assign values to it using our lists as arguments\n",
    "df['Month'] = np.select(conditions, values)\n",
    "df"
   ]
  },
  {
   "cell_type": "markdown",
   "id": "f38c155d",
   "metadata": {},
   "source": [
    "### Dropping date column due to high cardinality"
   ]
  },
  {
   "cell_type": "code",
   "execution_count": 56,
   "id": "0c570e97",
   "metadata": {
    "scrolled": true
   },
   "outputs": [],
   "source": [
    "df[\"Year\"]=df[\"Date\"].dt.year\n",
    "df[\"day\"]=df[\"Date\"].dt.day\n",
    "df.drop(\"Date\",axis=1,inplace=True)\n"
   ]
  },
  {
   "cell_type": "markdown",
   "id": "a7e8c244",
   "metadata": {},
   "source": [
    "## Identification of rainy season for each location"
   ]
  },
  {
   "cell_type": "code",
   "execution_count": 103,
   "id": "f8bb6502",
   "metadata": {
    "scrolled": false
   },
   "outputs": [
    {
     "name": "stderr",
     "output_type": "stream",
     "text": [
      "C:\\Users\\hi\\AppData\\Local\\Temp/ipykernel_16096/2467954185.py:23: FutureWarning: Indexing with multiple keys (implicitly converted to a tuple of keys) will be deprecated, use a list instead.\n",
      "  df_temp = df2.groupby(['Location','Month'])[\"Rainfall\",\"Date\"].sum().sort_values(by=\"Rainfall\", ascending=False).head(3)\n"
     ]
    },
    {
     "data": {
      "text/html": [
       "<div>\n",
       "<style scoped>\n",
       "    .dataframe tbody tr th:only-of-type {\n",
       "        vertical-align: middle;\n",
       "    }\n",
       "\n",
       "    .dataframe tbody tr th {\n",
       "        vertical-align: top;\n",
       "    }\n",
       "\n",
       "    .dataframe thead th {\n",
       "        text-align: right;\n",
       "    }\n",
       "</style>\n",
       "<table border=\"1\" class=\"dataframe\">\n",
       "  <thead>\n",
       "    <tr style=\"text-align: right;\">\n",
       "      <th></th>\n",
       "      <th></th>\n",
       "      <th>Rainfall</th>\n",
       "    </tr>\n",
       "    <tr>\n",
       "      <th>Location</th>\n",
       "      <th>Month</th>\n",
       "      <th></th>\n",
       "    </tr>\n",
       "  </thead>\n",
       "  <tbody>\n",
       "    <tr>\n",
       "      <th rowspan=\"3\" valign=\"top\">Ballarat</th>\n",
       "      <th>September</th>\n",
       "      <td>624.0</td>\n",
       "    </tr>\n",
       "    <tr>\n",
       "      <th>August</th>\n",
       "      <td>553.6</td>\n",
       "    </tr>\n",
       "    <tr>\n",
       "      <th>July</th>\n",
       "      <td>541.6</td>\n",
       "    </tr>\n",
       "    <tr>\n",
       "      <th rowspan=\"2\" valign=\"top\">Richmond</th>\n",
       "      <th>March</th>\n",
       "      <td>892.6</td>\n",
       "    </tr>\n",
       "    <tr>\n",
       "      <th>January</th>\n",
       "      <td>850.0</td>\n",
       "    </tr>\n",
       "    <tr>\n",
       "      <th>...</th>\n",
       "      <th>...</th>\n",
       "      <td>...</td>\n",
       "    </tr>\n",
       "    <tr>\n",
       "      <th rowspan=\"2\" valign=\"top\">Portland</th>\n",
       "      <th>June</th>\n",
       "      <td>1037.0</td>\n",
       "    </tr>\n",
       "    <tr>\n",
       "      <th>August</th>\n",
       "      <td>994.4</td>\n",
       "    </tr>\n",
       "    <tr>\n",
       "      <th rowspan=\"3\" valign=\"top\">PearceRAAF</th>\n",
       "      <th>July</th>\n",
       "      <td>837.4</td>\n",
       "    </tr>\n",
       "    <tr>\n",
       "      <th>August</th>\n",
       "      <td>785.3</td>\n",
       "    </tr>\n",
       "    <tr>\n",
       "      <th>June</th>\n",
       "      <td>638.7</td>\n",
       "    </tr>\n",
       "  </tbody>\n",
       "</table>\n",
       "<p>147 rows × 1 columns</p>\n",
       "</div>"
      ],
      "text/plain": [
       "                      Rainfall\n",
       "Location   Month              \n",
       "Ballarat   September     624.0\n",
       "           August        553.6\n",
       "           July          541.6\n",
       "Richmond   March         892.6\n",
       "           January       850.0\n",
       "...                        ...\n",
       "Portland   June         1037.0\n",
       "           August        994.4\n",
       "PearceRAAF July          837.4\n",
       "           August        785.3\n",
       "           June          638.7\n",
       "\n",
       "[147 rows x 1 columns]"
      ]
     },
     "execution_count": 103,
     "metadata": {},
     "output_type": "execute_result"
    }
   ],
   "source": [
    "df0=df[df[\"Rainfall\"]!=0]\n",
    "Location_list=list(set(df.Location))\n",
    "df_full=pd.DataFrame()\n",
    "df_temp=pd.DataFrame()\n",
    "\n",
    "def concatenate_loop_dfs(df_temp, df_full, axis=0):\n",
    "    \"\"\"\n",
    "    to avoid retyping the same line of code for every df.\n",
    "    the parameters should be the temporary df created at each loop and the concatenated DF that will contain all\n",
    "    values which must first be initialized (outside the loop). \"\"\" \n",
    "    if df_full.empty:\n",
    "      df_full = df_temp\n",
    "    else:\n",
    "      df_full = pd.concat([df_full, df_temp], axis=axis)\n",
    "    return df_full\n",
    "df_final = pd.DataFrame()\n",
    "for Location in Location_list:\n",
    "    # The query function does a search for where\n",
    "    # the @Location means the external variable, in this case the input from loop\n",
    "    # then you'll have a temporary DF with only the year and sorting and getting top3\n",
    "    df2 = df.query(\"Location == @Location\")\n",
    "\n",
    "    df_temp = df2.groupby(['Location','Month'])[\"Rainfall\",\"Date\"].sum().sort_values(by=\"Rainfall\", ascending=False).head(3)\n",
    "    # finally you'll call our function that will keep concating the tmp DFs\n",
    "    df_final = concatenate_loop_dfs(df_temp, df_final)\n",
    "df_final"
   ]
  },
  {
   "cell_type": "code",
   "execution_count": 86,
   "id": "2b83df5c",
   "metadata": {
    "scrolled": true
   },
   "outputs": [
    {
     "data": {
      "text/plain": [
       "624.0"
      ]
     },
     "execution_count": 86,
     "metadata": {},
     "output_type": "execute_result"
    }
   ],
   "source": [
    "df0[\"Rainfall\"][(df0[\"Location\"]==\"Ballarat\")&(df0[\"Month\"]==\"September\")].sum()# Checking the result"
   ]
  },
  {
   "cell_type": "code",
   "execution_count": 104,
   "id": "96f90acc",
   "metadata": {
    "scrolled": true
   },
   "outputs": [
    {
     "data": {
      "text/plain": [
       "Location          Month    \n",
       "Ballarat          September     624.0\n",
       "                  August        553.6\n",
       "                  July          541.6\n",
       "Richmond          March         892.6\n",
       "                  January       850.0\n",
       "                  February      812.4\n",
       "PerthAirport      August        932.8\n",
       "                  July          913.6\n",
       "                  June          810.4\n",
       "SydneyAirport     June         1326.2\n",
       "                  March        1128.8\n",
       "                  April        1094.0\n",
       "Mildura           February      322.2\n",
       "                  January       307.6\n",
       "                  December      290.6\n",
       "Launceston        August        805.3\n",
       "                  July          708.6\n",
       "                  June          658.3\n",
       "AliceSprings      January       607.8\n",
       "                  December      449.0\n",
       "                  February      420.4\n",
       "MelbourneAirport  November      582.4\n",
       "                  September     443.6\n",
       "                  October       422.2\n",
       "Albury            March         580.0\n",
       "                  July          559.6\n",
       "                  August        551.0\n",
       "BadgerysCreek     March         976.6\n",
       "                  June          784.4\n",
       "                  January       733.2\n",
       "Newcastle         June         1269.2\n",
       "                  April        1098.5\n",
       "                  January      1066.5\n",
       "Williamtown       April        1287.4\n",
       "                  June         1203.5\n",
       "                  January       983.8\n",
       "Cobar             June          430.2\n",
       "                  February      378.6\n",
       "                  March         354.8\n",
       "Woomera           January       185.0\n",
       "                  April         184.1\n",
       "                  February      172.6\n",
       "GoldCoast         January      1615.6\n",
       "                  March        1542.4\n",
       "                  April        1502.8\n",
       "SalmonGums        March         378.8\n",
       "                  January       330.8\n",
       "                  August        292.6\n",
       "CoffsHarbour      March        1908.9\n",
       "                  June         1902.8\n",
       "                  February     1842.5\n",
       "Hobart            November      553.2\n",
       "                  August        548.8\n",
       "                  September     545.2\n",
       "Sale              June          496.8\n",
       "                  November      496.0\n",
       "                  March         398.6\n",
       "Bendigo           July          534.4\n",
       "                  September     530.2\n",
       "                  August        504.0\n",
       "Name: Rainfall, dtype: float64"
      ]
     },
     "execution_count": 104,
     "metadata": {},
     "output_type": "execute_result"
    }
   ],
   "source": [
    "df_final.iloc[0:60,0]"
   ]
  },
  {
   "cell_type": "code",
   "execution_count": 134,
   "id": "4811cef2",
   "metadata": {
    "scrolled": true
   },
   "outputs": [
    {
     "data": {
      "text/plain": [
       "Location       Month    \n",
       "Albany         June         1024.9\n",
       "               July          952.1\n",
       "               August        936.3\n",
       "Brisbane       January      1783.8\n",
       "               March        1282.4\n",
       "               December     1128.8\n",
       "NorahHead      June         1501.6\n",
       "               March        1179.0\n",
       "               May          1018.2\n",
       "Moree          January       733.2\n",
       "               February      559.6\n",
       "               November      502.0\n",
       "Darwin         January      4081.0\n",
       "               February     3782.4\n",
       "               December     2638.6\n",
       "Perth          July         1199.8\n",
       "               June          955.2\n",
       "               August        914.8\n",
       "Uluru          December      308.8\n",
       "               February      152.4\n",
       "               May           149.0\n",
       "Nhil           June          232.0\n",
       "               May           198.2\n",
       "               September     175.4\n",
       "Dartmoor       July          896.8\n",
       "               August        867.4\n",
       "               June          784.2\n",
       "MountGambier   July          902.0\n",
       "               August        868.8\n",
       "               June          781.6\n",
       "NorfolkIsland  June         1130.4\n",
       "               August        992.8\n",
       "               February      917.8\n",
       "Katherine      January      1212.8\n",
       "               December     1176.1\n",
       "               March        1053.8\n",
       "Tuggeranong    December      825.6\n",
       "               February      765.2\n",
       "               March         744.2\n",
       "Nuriootpa      September     531.4\n",
       "               July          518.6\n",
       "               June          477.6\n",
       "Canberra       December      784.8\n",
       "               November      714.8\n",
       "               February      618.2\n",
       "Penrith        February      886.0\n",
       "               January       881.4\n",
       "               March         807.8\n",
       "Cairns         January      3854.2\n",
       "               February     3790.0\n",
       "               March        3168.4\n",
       "Melbourne      November      569.2\n",
       "               September     456.0\n",
       "               October       441.0\n",
       "WaggaWagga     March         646.4\n",
       "               June          510.8\n",
       "               November      488.4\n",
       "Witchcliffe    July         1684.8\n",
       "               June         1539.6\n",
       "               August       1349.4\n",
       "Name: Rainfall, dtype: float64"
      ]
     },
     "execution_count": 134,
     "metadata": {},
     "output_type": "execute_result"
    }
   ],
   "source": [
    "df_final.iloc[60:120,0]"
   ]
  },
  {
   "cell_type": "markdown",
   "id": "bb90cd39",
   "metadata": {},
   "source": [
    "## Feature Significance"
   ]
  },
  {
   "cell_type": "code",
   "execution_count": 57,
   "id": "99ef780e",
   "metadata": {},
   "outputs": [
    {
     "data": {
      "text/plain": [
       "<AxesSubplot:>"
      ]
     },
     "execution_count": 57,
     "metadata": {},
     "output_type": "execute_result"
    },
    {
     "data": {
      "image/png": "[encoded data removed]",
      "text/plain": [
       "<Figure size 432x288 with 1 Axes>"
      ]
     },
     "metadata": {
      "needs_background": "light"
     },
     "output_type": "display_data"
    }
   ],
   "source": [
    "\n",
    "X = df.drop(['RainTomorrow'],axis=1)\n",
    "y = df['RainTomorrow']\n",
    "from sklearn.ensemble import ExtraTreesRegressor\n",
    "etr_model = ExtraTreesRegressor()\n",
    "etr_model.fit(X,y)\n",
    "etr_model.feature_importances_\n",
    "feature_imp = pd.Series(etr_model.feature_importances_,index=X.columns)\n",
    "feature_imp.nlargest(10).plot(kind='barh')\n"
   ]
  },
  {
   "cell_type": "code",
   "execution_count": 71,
   "id": "0cc828cc",
   "metadata": {
    "scrolled": false
   },
   "outputs": [
    {
     "data": {
      "text/plain": [
       "<AxesSubplot:xlabel='Sunshine', ylabel='Rainfall'>"
      ]
     },
     "execution_count": 71,
     "metadata": {},
     "output_type": "execute_result"
    },
    {
     "data": {
      "image/png": "[encoded data removed]",
      "text/plain": [
       "<Figure size 432x288 with 1 Axes>"
      ]
     },
     "metadata": {
      "needs_background": "light"
     },
     "output_type": "display_data"
    }
   ],
   "source": [
    "import seaborn as sns\n",
    "sns.lineplot(data=df,x='Sunshine',y='Rainfall',color='green')#Rainfall is inversy proportional to Sunshine"
   ]
  },
  {
   "cell_type": "code",
   "execution_count": 72,
   "id": "721566cd",
   "metadata": {},
   "outputs": [
    {
     "data": {
      "text/plain": [
       "<AxesSubplot:xlabel='Sunshine', ylabel='Evaporation'>"
      ]
     },
     "execution_count": 72,
     "metadata": {},
     "output_type": "execute_result"
    },
    {
     "data": {
      "image/png": "[encoded data removed]",
      "text/plain": [
       "<Figure size 432x288 with 1 Axes>"
      ]
     },
     "metadata": {
      "needs_background": "light"
     },
     "output_type": "display_data"
    }
   ],
   "source": [
    "sns.lineplot(data=df,x='Sunshine',y='Evaporation',color='blue')#Sunshine is proportional to Evaporation feature"
   ]
  },
  {
   "cell_type": "markdown",
   "id": "3aa85d47",
   "metadata": {},
   "source": [
    "## Splitting data into training and testing set"
   ]
  },
  {
   "cell_type": "code",
   "execution_count": 86,
   "id": "64f9fae1",
   "metadata": {},
   "outputs": [
    {
     "name": "stdout",
     "output_type": "stream",
     "text": [
      "Length of Training Data: 116368\n",
      "Length of Testing Data: 29092\n"
     ]
    }
   ],
   "source": [
    "from sklearn.model_selection import train_test_split\n",
    "X_train, X_test, y_train, y_test = train_test_split(X,y, test_size = 0.2, random_state = 0)\n",
    "print(\"Length of Training Data: {}\".format(len(X_train)))\n",
    "print(\"Length of Testing Data: {}\".format(len(X_test)))"
   ]
  },
  {
   "cell_type": "markdown",
   "id": "e2f2584f",
   "metadata": {},
   "source": [
    "## Feature Scaling"
   ]
  },
  {
   "cell_type": "code",
   "execution_count": 94,
   "id": "fd7908eb",
   "metadata": {},
   "outputs": [],
   "source": [
    "from sklearn.preprocessing import StandardScaler\n",
    "scaler = StandardScaler()\n",
    "X_train = scaler.fit_transform(X_train)\n",
    "X_test = scaler.transform(X_test)\n",
    "\n"
   ]
  },
  {
   "cell_type": "markdown",
   "id": "da8bb7e6",
   "metadata": {},
   "source": [
    "## Model Building"
   ]
  },
  {
   "cell_type": "code",
   "execution_count": 101,
   "id": "48fd7b6d",
   "metadata": {},
   "outputs": [],
   "source": [
    "y_train.replace({0.224181,0},inplace=True)\n",
    "y_train=y_train.astype(int)"
   ]
  },
  {
   "cell_type": "code",
   "execution_count": 107,
   "id": "7c2e268e",
   "metadata": {},
   "outputs": [],
   "source": [
    "y_test.replace({0.224181,0},inplace=True)\n",
    "y_test=y_test.astype(int)"
   ]
  },
  {
   "cell_type": "code",
   "execution_count": 118,
   "id": "6588cae8",
   "metadata": {
    "scrolled": true
   },
   "outputs": [
    {
     "data": {
      "text/plain": [
       "array([0, 0, 0, ..., 1, 0, 0])"
      ]
     },
     "execution_count": 118,
     "metadata": {},
     "output_type": "execute_result"
    }
   ],
   "source": [
    "from sklearn.linear_model import LogisticRegression\n",
    "clr = LogisticRegression()\n",
    "clr.fit(X_train, y_train)\n",
    "y_pred = clr.predict(X_test)\n",
    "y_pred"
   ]
  },
  {
   "cell_type": "markdown",
   "id": "3b76cb40",
   "metadata": {},
   "source": [
    "## Accuracy Score"
   ]
  },
  {
   "cell_type": "code",
   "execution_count": 108,
   "id": "226cecbf",
   "metadata": {
    "scrolled": true
   },
   "outputs": [
    {
     "name": "stdout",
     "output_type": "stream",
     "text": [
      "Accuracy Score: 0.8406778495806407\n"
     ]
    }
   ],
   "source": [
    "from sklearn.metrics import accuracy_score\n",
    "print(\"Accuracy Score: {}\".format(accuracy_score(y_test,y_pred)))"
   ]
  },
  {
   "cell_type": "code",
   "execution_count": 109,
   "id": "d4d8b172",
   "metadata": {},
   "outputs": [
    {
     "name": "stdout",
     "output_type": "stream",
     "text": [
      "Train Data Score: 0.840308332187543\n",
      "Test Data Score: 0.8406778495806407\n"
     ]
    }
   ],
   "source": [
    "print(\"Train Data Score: {}\".format(clr.score(X_train, y_train)))\n",
    "print(\"Test Data Score: {}\".format(clr.score(X_test, y_test)))\n",
    "# The accuracy Score of training and testing data is comparable and almost equal. So, there is no question of underfitting and overfitting. "
   ]
  },
  {
   "cell_type": "markdown",
   "id": "540db676",
   "metadata": {},
   "source": [
    "## Confusion Matrix"
   ]
  },
  {
   "cell_type": "code",
   "execution_count": 110,
   "id": "5cad54f7",
   "metadata": {
    "scrolled": true
   },
   "outputs": [
    {
     "name": "stdout",
     "output_type": "stream",
     "text": [
      "[[21572  1154]\n",
      " [ 3481  2885]]\n"
     ]
    }
   ],
   "source": [
    "from sklearn.metrics import confusion_matrix\n",
    "print(confusion_matrix(y_test,y_pred))"
   ]
  },
  {
   "cell_type": "markdown",
   "id": "7b521ae1",
   "metadata": {},
   "source": [
    "## Classification Report"
   ]
  },
  {
   "cell_type": "code",
   "execution_count": 111,
   "id": "9ed3269f",
   "metadata": {},
   "outputs": [
    {
     "name": "stdout",
     "output_type": "stream",
     "text": [
      "              precision    recall  f1-score   support\n",
      "\n",
      "           0       0.86      0.95      0.90     22726\n",
      "           1       0.71      0.45      0.55      6366\n",
      "\n",
      "    accuracy                           0.84     29092\n",
      "   macro avg       0.79      0.70      0.73     29092\n",
      "weighted avg       0.83      0.84      0.83     29092\n",
      "\n"
     ]
    }
   ],
   "source": [
    "from sklearn.metrics import classification_report\n",
    "print(classification_report(y_test,y_pred))"
   ]
  },
  {
   "cell_type": "markdown",
   "id": "49c076de",
   "metadata": {},
   "source": [
    "## Cross validation"
   ]
  },
  {
   "cell_type": "code",
   "execution_count": 114,
   "id": "24ff5d3a",
   "metadata": {
    "scrolled": true
   },
   "outputs": [
    {
     "name": "stdout",
     "output_type": "stream",
     "text": [
      "Cross-validation scores:[0.83921973 0.84162585 0.84270001 0.83852533 0.83831049]\n",
      "Average cross-validation score: 0.8400762811361892\n"
     ]
    }
   ],
   "source": [
    "from sklearn.model_selection import cross_val_score\n",
    "scores = cross_val_score(clr, X_train, y_train, cv = 5, scoring='accuracy')\n",
    "print('Cross-validation scores:{}'.format(scores))\n",
    "print('Average cross-validation score: {}'.format(scores.mean()))"
   ]
  },
  {
   "cell_type": "markdown",
   "id": "47283d29",
   "metadata": {},
   "source": [
    "## Adjusting Threshold value"
   ]
  },
  {
   "cell_type": "code",
   "execution_count": 119,
   "id": "5e7f0073",
   "metadata": {},
   "outputs": [
    {
     "name": "stdout",
     "output_type": "stream",
     "text": [
      "Ensemble test roc-auc: 0.8651524475945582\n"
     ]
    }
   ],
   "source": [
    "from sklearn.metrics import roc_auc_score\n",
    "pred=[]\n",
    "from sklearn.neighbors import KNeighborsClassifier\n",
    "knn_classifier=KNeighborsClassifier()\n",
    "knn_classifier.fit(X_train, y_train)\n",
    "from sklearn.ensemble import RandomForestClassifier\n",
    "rf_model = RandomForestClassifier()\n",
    "rf_model.fit(X_train, y_train)\n",
    "for model in [rf_model,clr,knn_classifier]:\n",
    "    pred.append(pd.Series(model.predict_proba(X_test)[:,1]))\n",
    "final_prediction=pd.concat(pred,axis=1).mean(axis=1)\n",
    "print('Ensemble test roc-auc: {}'.format(roc_auc_score(y_test,final_prediction)))"
   ]
  },
  {
   "cell_type": "code",
   "execution_count": 120,
   "id": "6ea4513d",
   "metadata": {},
   "outputs": [
    {
     "data": {
      "text/html": [
       "<div>\n",
       "<style scoped>\n",
       "    .dataframe tbody tr th:only-of-type {\n",
       "        vertical-align: middle;\n",
       "    }\n",
       "\n",
       "    .dataframe tbody tr th {\n",
       "        vertical-align: top;\n",
       "    }\n",
       "\n",
       "    .dataframe thead th {\n",
       "        text-align: right;\n",
       "    }\n",
       "</style>\n",
       "<table border=\"1\" class=\"dataframe\">\n",
       "  <thead>\n",
       "    <tr style=\"text-align: right;\">\n",
       "      <th></th>\n",
       "      <th>0</th>\n",
       "      <th>1</th>\n",
       "      <th>2</th>\n",
       "    </tr>\n",
       "  </thead>\n",
       "  <tbody>\n",
       "    <tr>\n",
       "      <th>0</th>\n",
       "      <td>0.22</td>\n",
       "      <td>0.142841</td>\n",
       "      <td>0.0</td>\n",
       "    </tr>\n",
       "    <tr>\n",
       "      <th>1</th>\n",
       "      <td>0.45</td>\n",
       "      <td>0.124728</td>\n",
       "      <td>0.2</td>\n",
       "    </tr>\n",
       "    <tr>\n",
       "      <th>2</th>\n",
       "      <td>0.21</td>\n",
       "      <td>0.183206</td>\n",
       "      <td>0.0</td>\n",
       "    </tr>\n",
       "    <tr>\n",
       "      <th>3</th>\n",
       "      <td>0.49</td>\n",
       "      <td>0.329104</td>\n",
       "      <td>0.2</td>\n",
       "    </tr>\n",
       "    <tr>\n",
       "      <th>4</th>\n",
       "      <td>0.07</td>\n",
       "      <td>0.050525</td>\n",
       "      <td>0.0</td>\n",
       "    </tr>\n",
       "    <tr>\n",
       "      <th>...</th>\n",
       "      <td>...</td>\n",
       "      <td>...</td>\n",
       "      <td>...</td>\n",
       "    </tr>\n",
       "    <tr>\n",
       "      <th>29087</th>\n",
       "      <td>0.56</td>\n",
       "      <td>0.765206</td>\n",
       "      <td>0.2</td>\n",
       "    </tr>\n",
       "    <tr>\n",
       "      <th>29088</th>\n",
       "      <td>0.03</td>\n",
       "      <td>0.038182</td>\n",
       "      <td>0.0</td>\n",
       "    </tr>\n",
       "    <tr>\n",
       "      <th>29089</th>\n",
       "      <td>0.48</td>\n",
       "      <td>0.552893</td>\n",
       "      <td>0.2</td>\n",
       "    </tr>\n",
       "    <tr>\n",
       "      <th>29090</th>\n",
       "      <td>0.28</td>\n",
       "      <td>0.253631</td>\n",
       "      <td>0.2</td>\n",
       "    </tr>\n",
       "    <tr>\n",
       "      <th>29091</th>\n",
       "      <td>0.09</td>\n",
       "      <td>0.071456</td>\n",
       "      <td>0.0</td>\n",
       "    </tr>\n",
       "  </tbody>\n",
       "</table>\n",
       "<p>29092 rows × 3 columns</p>\n",
       "</div>"
      ],
      "text/plain": [
       "          0         1    2\n",
       "0      0.22  0.142841  0.0\n",
       "1      0.45  0.124728  0.2\n",
       "2      0.21  0.183206  0.0\n",
       "3      0.49  0.329104  0.2\n",
       "4      0.07  0.050525  0.0\n",
       "...     ...       ...  ...\n",
       "29087  0.56  0.765206  0.2\n",
       "29088  0.03  0.038182  0.0\n",
       "29089  0.48  0.552893  0.2\n",
       "29090  0.28  0.253631  0.2\n",
       "29091  0.09  0.071456  0.0\n",
       "\n",
       "[29092 rows x 3 columns]"
      ]
     },
     "execution_count": 120,
     "metadata": {},
     "output_type": "execute_result"
    }
   ],
   "source": [
    "pd.concat(pred,axis=1)"
   ]
  },
  {
   "cell_type": "code",
   "execution_count": 121,
   "id": "3abf98c3",
   "metadata": {},
   "outputs": [
    {
     "data": {
      "text/plain": [
       "0        0.120947\n",
       "1        0.258243\n",
       "2        0.131069\n",
       "3        0.339701\n",
       "4        0.040175\n",
       "           ...   \n",
       "29087    0.508402\n",
       "29088    0.022727\n",
       "29089    0.410964\n",
       "29090    0.244544\n",
       "29091    0.053819\n",
       "Length: 29092, dtype: float64"
      ]
     },
     "execution_count": 121,
     "metadata": {},
     "output_type": "execute_result"
    }
   ],
   "source": [
    "final_prediction"
   ]
  },
  {
   "cell_type": "code",
   "execution_count": 122,
   "id": "9ee11764",
   "metadata": {},
   "outputs": [
    {
     "data": {
      "text/plain": [
       "array([1.98615639e+00, 9.86156392e-01, 9.64515343e-01, ...,\n",
       "       3.40290955e-03, 3.40275904e-03, 1.06394237e-03])"
      ]
     },
     "execution_count": 122,
     "metadata": {},
     "output_type": "execute_result"
    }
   ],
   "source": [
    "fpr, tpr, thresholds = roc_curve(y_test, final_prediction)\n",
    "thresholds"
   ]
  },
  {
   "cell_type": "code",
   "execution_count": 123,
   "id": "686e24d9",
   "metadata": {
    "scrolled": true
   },
   "outputs": [
    {
     "data": {
      "text/html": [
       "<div>\n",
       "<style scoped>\n",
       "    .dataframe tbody tr th:only-of-type {\n",
       "        vertical-align: middle;\n",
       "    }\n",
       "\n",
       "    .dataframe tbody tr th {\n",
       "        vertical-align: top;\n",
       "    }\n",
       "\n",
       "    .dataframe thead th {\n",
       "        text-align: right;\n",
       "    }\n",
       "</style>\n",
       "<table border=\"1\" class=\"dataframe\">\n",
       "  <thead>\n",
       "    <tr style=\"text-align: right;\">\n",
       "      <th></th>\n",
       "      <th>thresholds</th>\n",
       "      <th>accuracy</th>\n",
       "    </tr>\n",
       "  </thead>\n",
       "  <tbody>\n",
       "    <tr>\n",
       "      <th>1549</th>\n",
       "      <td>0.473427</td>\n",
       "      <td>0.849237</td>\n",
       "    </tr>\n",
       "    <tr>\n",
       "      <th>1554</th>\n",
       "      <td>0.472526</td>\n",
       "      <td>0.849237</td>\n",
       "    </tr>\n",
       "    <tr>\n",
       "      <th>1563</th>\n",
       "      <td>0.471085</td>\n",
       "      <td>0.849203</td>\n",
       "    </tr>\n",
       "    <tr>\n",
       "      <th>1569</th>\n",
       "      <td>0.470632</td>\n",
       "      <td>0.849203</td>\n",
       "    </tr>\n",
       "    <tr>\n",
       "      <th>1545</th>\n",
       "      <td>0.474167</td>\n",
       "      <td>0.849203</td>\n",
       "    </tr>\n",
       "  </tbody>\n",
       "</table>\n",
       "</div>"
      ],
      "text/plain": [
       "      thresholds  accuracy\n",
       "1549    0.473427  0.849237\n",
       "1554    0.472526  0.849237\n",
       "1563    0.471085  0.849203\n",
       "1569    0.470632  0.849203\n",
       "1545    0.474167  0.849203"
      ]
     },
     "execution_count": 123,
     "metadata": {},
     "output_type": "execute_result"
    }
   ],
   "source": [
    "from sklearn.metrics import accuracy_score\n",
    "accuracy_ls = []\n",
    "for thres in thresholds:\n",
    "    y_pred = np.where(final_prediction>thres,1,0)\n",
    "    accuracy_ls.append(accuracy_score(y_test, y_pred, normalize=True))\n",
    "    \n",
    "accuracy_ls = pd.concat([pd.Series(thresholds), pd.Series(accuracy_ls)],\n",
    "                        axis=1)\n",
    "accuracy_ls.columns = ['thresholds', 'accuracy']\n",
    "accuracy_ls.sort_values(by='accuracy', ascending=False, inplace=True)\n",
    "accuracy_ls.head()"
   ]
  },
  {
   "cell_type": "markdown",
   "id": "fb5f50f0",
   "metadata": {},
   "source": [
    "## ROC Curve"
   ]
  },
  {
   "cell_type": "code",
   "execution_count": 124,
   "id": "2564bcc4",
   "metadata": {},
   "outputs": [
    {
     "data": {
      "image/png": "[encoded data removed]",
      "text/plain": [
       "<Figure size 432x288 with 1 Axes>"
      ]
     },
     "metadata": {
      "needs_background": "light"
     },
     "output_type": "display_data"
    }
   ],
   "source": [
    "def plot_roc_curve(fpr, tpr):\n",
    "    plt.plot(fpr, tpr, color='orange', label='ROC')\n",
    "    plt.plot([0, 1], [0, 1], color='darkblue', linestyle='--')\n",
    "    plt.xlabel('False Positive Rate')\n",
    "    plt.ylabel('True Positive Rate')\n",
    "    plt.title('Receiver Operating Characteristic (ROC) Curve')\n",
    "    plt.legend()\n",
    "    plt.show()\n",
    "plot_roc_curve(fpr,tpr)"
   ]
  },
  {
   "cell_type": "markdown",
   "id": "f0eebe6f",
   "metadata": {},
   "source": [
    "## Recursive Feature Elimination"
   ]
  },
  {
   "cell_type": "code",
   "execution_count": 127,
   "id": "76cc3363",
   "metadata": {
    "scrolled": true
   },
   "outputs": [
    {
     "name": "stdout",
     "output_type": "stream",
     "text": [
      "Fitting estimator with 17 features.\n",
      "Fitting estimator with 16 features.\n",
      "Fitting estimator with 15 features.\n",
      "Fitting estimator with 14 features.\n",
      "Fitting estimator with 13 features.\n",
      "Fitting estimator with 12 features.\n",
      "Fitting estimator with 11 features.\n",
      "Fitting estimator with 10 features.\n",
      "Fitting estimator with 9 features.\n",
      "Fitting estimator with 8 features.\n",
      "Fitting estimator with 7 features.\n",
      "Fitting estimator with 6 features.\n",
      "Fitting estimator with 5 features.\n",
      "Fitting estimator with 4 features.\n",
      "Fitting estimator with 3 features.\n",
      "Fitting estimator with 2 features.\n",
      "RFECV(cv=4, estimator=DecisionTreeRegressor(), n_jobs=-1,\n",
      "      scoring='neg_mean_squared_error', verbose=1)\n",
      "Optimal no of features : 1\n"
     ]
    }
   ],
   "source": [
    "from sklearn.feature_selection import RFECV\n",
    "from sklearn.tree import DecisionTreeRegressor\n",
    "dt=DecisionTreeRegressor()\n",
    "rfecv=RFECV(estimator=dt,step=1,scoring='neg_mean_squared_error',cv=4,verbose=1,n_jobs=-1)\n",
    "rfecv.fit(X,y)\n",
    "rfecv.transform(X)\n",
    "print(rfecv)\n",
    "print(\"Optimal no of features : {}\".format(rfecv.n_features_))"
   ]
  },
  {
   "cell_type": "markdown",
   "id": "201008f4",
   "metadata": {},
   "source": [
    "## Hyperparameter Optimization"
   ]
  },
  {
   "cell_type": "code",
   "execution_count": null,
   "id": "feb795ab",
   "metadata": {},
   "outputs": [],
   "source": [
    "from sklearn import svm\n",
    "from sklearn.model_selection import GridSearchCV\n",
    "clf=GridSearchCV(svm.SVC(gamma='auto'),{\"C\":[1,2,3,4],\"kernel\":[\"rbf\",\"linear\"]},cv=5,return_train_score=False)\n",
    "clf.fit(X,y)\n",
    "df=pd.DataFrame(clf.cv_results_)\n",
    "df"
   ]
  }
 ],
 "metadata": {
  "kernelspec": {
   "display_name": "Python 3 (ipykernel)",
   "language": "python",
   "name": "python3"
  },
  "language_info": {
   "codemirror_mode": {
    "name": "ipython",
    "version": 3
   },
   "file_extension": ".py",
   "mimetype": "text/x-python",
   "name": "python",
   "nbconvert_exporter": "python",
   "pygments_lexer": "ipython3",
   "version": "3.8.8"
  }
 },
 "nbformat": 4,
 "nbformat_minor": 5
}
