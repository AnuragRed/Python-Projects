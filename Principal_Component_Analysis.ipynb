{
 "cells": [
  {
   "cell_type": "code",
   "execution_count": 2,
   "id": "f0878f93",
   "metadata": {
    "scrolled": true
   },
   "outputs": [],
   "source": [
    "import pandas as pd\n",
    " \n",
    "df=pd.read_csv(\"C:/Users/hi/Documents/Python Scripts/Cars_mileage.csv\")"
   ]
  },
  {
   "cell_type": "markdown",
   "id": "f57441bf",
   "metadata": {},
   "source": [
    "## Applying PCA"
   ]
  },
  {
   "cell_type": "code",
   "execution_count": 4,
   "id": "379edb5a",
   "metadata": {},
   "outputs": [
    {
     "name": "stdout",
     "output_type": "stream",
     "text": [
      "    Principal_component_1  Principal_component_2        MPG\n",
      "0               -2.612343              -0.644779  53.700681\n",
      "1               -2.164822              -0.742867  50.013401\n",
      "2               -2.178864              -0.722544  50.013401\n",
      "3               -1.520455              -0.372359  45.696322\n",
      "4               -2.272112              -0.748503  50.504232\n",
      "..                    ...                    ...        ...\n",
      "76               1.379692               5.495026  36.900000\n",
      "77               3.377962               1.092242  19.197888\n",
      "78               0.473708               4.521625  34.000000\n",
      "79               4.508973               1.856849  19.833733\n",
      "80               3.142744               1.203343  12.101263\n",
      "\n",
      "[81 rows x 3 columns]\n",
      "[0.59078919 0.36332536]\n"
     ]
    }
   ],
   "source": [
    "from sklearn.model_selection import train_test_split\n",
    "Y=df.MPG\n",
    "X=df\n",
    "from sklearn.preprocessing import StandardScaler\n",
    "X_s=StandardScaler().fit_transform(X)\n",
    "from sklearn.decomposition import PCA\n",
    "p=PCA(n_components=2)\n",
    "pc=p.fit_transform(X_s)\n",
    "pdf=pd.DataFrame(data=pc,columns=[\"Principal_component_1\",\"Principal_component_2\"])\n",
    "finalDf=pd.concat([pdf,Y],axis=1)\n",
    "print(finalDf)\n",
    "print(p.explained_variance_ratio_)\n",
    "\n",
    "\n",
    "\n",
    "\n"
   ]
  },
  {
   "cell_type": "markdown",
   "id": "73ba200c",
   "metadata": {},
   "source": [
    "## Applying Linear regression"
   ]
  },
  {
   "cell_type": "code",
   "execution_count": 8,
   "id": "8e10ce88",
   "metadata": {
    "scrolled": false
   },
   "outputs": [
    {
     "name": "stdout",
     "output_type": "stream",
     "text": [
      "1.0\n"
     ]
    }
   ],
   "source": [
    "from sklearn.linear_model import LinearRegression\n",
    "import pandas as pd\n",
    "df=pd.read_csv(\"C:/Users/hi/Documents/Python Scripts/Cars_mileage.csv\")\n",
    "from sklearn.model_selection import train_test_split\n",
    "Y=df.MPG\n",
    "X=df\n",
    "X_train,X_test,Y_train,Y_test=train_test_split(X,Y,test_size=0.25,random_state=4)\n",
    "lr=LinearRegression()\n",
    "lr.fit(X_train,Y_train)\n",
    "print(lr.score(X_test,Y_test))"
   ]
  }
 ],
 "metadata": {
  "kernelspec": {
   "display_name": "Python 3 (ipykernel)",
   "language": "python",
   "name": "python3"
  },
  "language_info": {
   "codemirror_mode": {
    "name": "ipython",
    "version": 3
   },
   "file_extension": ".py",
   "mimetype": "text/x-python",
   "name": "python",
   "nbconvert_exporter": "python",
   "pygments_lexer": "ipython3",
   "version": "3.8.8"
  }
 },
 "nbformat": 4,
 "nbformat_minor": 5
}
